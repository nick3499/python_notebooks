{
 "cells": [
  {
   "cell_type": "markdown",
   "metadata": {},
   "source": [
    "# math module"
   ]
  },
  {
   "cell_type": "markdown",
   "metadata": {},
   "source": [
    "Python's **math** module has over 40 submodules. One submodule **math.factorial** has been demonstrated below:"
   ]
  },
  {
   "cell_type": "code",
   "execution_count": 7,
   "metadata": {
    "collapsed": false
   },
   "outputs": [
    {
     "data": {
      "text/plain": [
       "120"
      ]
     },
     "execution_count": 7,
     "metadata": {},
     "output_type": "execute_result"
    }
   ],
   "source": [
    "from math import factorial\n",
    "\n",
    "factorial(5)"
   ]
  },
  {
   "cell_type": "code",
   "execution_count": 8,
   "metadata": {
    "collapsed": false
   },
   "outputs": [
    {
     "data": {
      "text/plain": [
       "True"
      ]
     },
     "execution_count": 8,
     "metadata": {},
     "output_type": "execute_result"
    }
   ],
   "source": [
    "5 * 4 * 3 * 2 * 1 == 120  # 5!"
   ]
  },
  {
   "cell_type": "markdown",
   "metadata": {},
   "source": [
    "# scope"
   ]
  },
  {
   "cell_type": "code",
   "execution_count": 99,
   "metadata": {
    "collapsed": false
   },
   "outputs": [
    {
     "name": "stdout",
     "output_type": "stream",
     "text": [
      "\"x\" in global namespace is outside function body\n",
      "x: global iterator object --> <str_iterator object at 0x7fd0693959b0>\n",
      "x: global hash number     --> 4616608477855977092\n",
      "—————————————————————————————————————————\n",
      "\"x\" in local namespace is inside function body with different iterator object and hash number\n",
      "iterator object   --> <str_iterator object at 0x7fd069395940> (unique iterator object)\n",
      "local hash number --> -3300075194370669777 (unique hash number)\n"
     ]
    }
   ],
   "source": [
    "def local_scope():\n",
    "    x = 'x: local scope, inside body of function'\n",
    "    print('\"x\" in local namespace is inside function body with different iterator object and hash number')\n",
    "    print('iterator object   -->', iter(x), '(unique iterator object)')\n",
    "    print('local hash number -->', hash(x), '(unique hash number)')\n",
    "\n",
    "x = 'x: global scope, outside body of function'\n",
    "print('\"x\" in global namespace is function outside body')\n",
    "print('x: global iterator object -->', iter(x))\n",
    "print('x: global hash number     -->', hash(x))\n",
    "print('—————————————————————————————————————————')\n",
    "\n",
    "local_scope()"
   ]
  },
  {
   "cell_type": "markdown",
   "metadata": {},
   "source": [
    "**x** in the *local* namespace and **x** in the *global* namespace are not the same *x*, as indicated by different hash numbers and iterator objects."
   ]
  },
  {
   "cell_type": "code",
   "execution_count": null,
   "metadata": {
    "collapsed": true
   },
   "outputs": [],
   "source": []
  }
 ],
 "metadata": {
  "anaconda-cloud": {},
  "kernelspec": {
   "display_name": "Python [conda root]",
   "language": "python",
   "name": "conda-root-py"
  },
  "language_info": {
   "codemirror_mode": {
    "name": "ipython",
    "version": 3
   },
   "file_extension": ".py",
   "mimetype": "text/x-python",
   "name": "python",
   "nbconvert_exporter": "python",
   "pygments_lexer": "ipython3",
   "version": "3.5.2"
  }
 },
 "nbformat": 4,
 "nbformat_minor": 1
}

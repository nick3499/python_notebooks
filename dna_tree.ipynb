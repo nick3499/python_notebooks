{
 "cells": [
  {
   "cell_type": "markdown",
   "metadata": {},
   "source": [
    "# iterate tree recursively\n",
    "\n",
    "Below a bioinformatics DNA tree is iterated recursively, and printed. The root of each subtree is located in each first line. All of the nodes of the tree are represented as a list which contains a value followed by its subtrees."
   ]
  },
  {
   "cell_type": "code",
   "execution_count": 1,
   "metadata": {
    "collapsed": false
   },
   "outputs": [
    {
     "name": "stdout",
     "output_type": "stream",
     "text": [
      "\n",
      "   A\n",
      "      CC\n",
      "         CCTGATTACCG\n",
      "         G\n",
      "      TTACCG\n",
      "   C\n",
      "      C\n",
      "         CTGATTACCG\n",
      "         TGATTACCG\n",
      "         G\n",
      "      TGATTACCG\n",
      "      G\n",
      "   T\n",
      "      GATTACCG\n",
      "      TACCG\n",
      "      ACCG\n",
      "   GATTACCG\n"
     ]
    }
   ],
   "source": [
    "dna_tree = ['',\n",
    "    ['A',\n",
    "        ['CC',\n",
    "            ['CCTGATTACCG'],\n",
    "            ['G']\n",
    "        ],\n",
    "        ['TTACCG']\n",
    "    ],\n",
    "    ['C',\n",
    "        ['C',\n",
    "            ['CTGATTACCG'],\n",
    "            ['TGATTACCG'],\n",
    "            ['G']\n",
    "        ],\n",
    "        ['TGATTACCG'],\n",
    "        ['G']\n",
    "    ],\n",
    "    ['T',\n",
    "        ['GATTACCG'],\n",
    "        ['TACCG'],\n",
    "        ['ACCG']\n",
    "    ],\n",
    "    ['GATTACCG']\n",
    "]\n",
    "\n",
    "def dna_tree_print(dna_tree, level=0):\n",
    "    print(' ' * 3 * level, dna_tree[0], sep = '')\n",
    "    for node in dna_tree[1:]:\n",
    "        dna_tree_print(node,level+1)\n",
    "\n",
    "dna_tree_print(dna_tree, level=0)"
   ]
  }
 ],
 "metadata": {
  "anaconda-cloud": {},
  "kernelspec": {
   "display_name": "Python [conda env:py35]",
   "language": "python",
   "name": "conda-env-py35-py"
  },
  "language_info": {
   "codemirror_mode": {
    "name": "ipython",
    "version": 3
   },
   "file_extension": ".py",
   "mimetype": "text/x-python",
   "name": "python",
   "nbconvert_exporter": "python",
   "pygments_lexer": "ipython3",
   "version": "3.5.2"
  }
 },
 "nbformat": 4,
 "nbformat_minor": 2
}

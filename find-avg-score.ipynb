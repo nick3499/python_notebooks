{
 "cells": [
  {
   "cell_type": "code",
   "execution_count": 1,
   "metadata": {},
   "outputs": [
    {
     "name": "stdout",
     "output_type": "stream",
     "text": [
      "3\n",
      "Krishna 67 68 69\n",
      "Arjun 70 98 63\n",
      "Malika 52 56 60\n",
      "Malika\n",
      "56.00\n"
     ]
    }
   ],
   "source": [
    "if __name__ == '__main__':\n",
    "    n = int(input()) # 3\n",
    "    d = {} # {'Krishna': 68.0, 'Arjun': 77.0, 'Malika': 56.0}\n",
    "    for _ in range(n):\n",
    "        info = input().split() # ['Krishna', '67', '68', '69']\n",
    "        score = list(map(float, info[1:])) # [67.0, 68.0, 69.0]\n",
    "        d[info[0]] = sum(score) / float(len(score)) # 68.0\n",
    "    print('{:.2f}'.format(d[input()])) # Malika's avg. score: 56.00"
   ]
  },
  {
   "cell_type": "markdown",
   "metadata": {},
   "source": [
    "### `if __name__ == '__main__':`\n",
    "Evaluates to `True` only when script above is executed as a _stand-alone_ program. In other words, if this script was _imported_, it's name would no longer be `'__main__'` and the instructions below that `if` statement would not to execute.\n",
    "\n",
    "### `n = int(input())`\n",
    "For entering the name which basically sets the range. `3` indicates three students listed.\n",
    "\n",
    "### `d = {}`\n",
    "Initializes an empty dictionary, which becomes `{'Krishna': 68.0, 'Arjun': 77.0, 'Malika': 56.0}`\n",
    "\n",
    "### `for line in range(n):`\n",
    "Iterates through instructions `3` times, based on initial numerical value entered.\n",
    "\n",
    "### `info = input().split()`\n",
    "For entering lines of space-separated data, e.g. `Krishna 67 68 69`. `.split()` maintains a single space between each item in a line. Three student data lists are assigned to `info`:\n",
    "\n",
    "```\n",
    "['Krishna', '67', '68', '69']\n",
    "['Arjun', '70', '98', '63']\n",
    "['Malika', '52', '56', '60']\n",
    "```\n",
    "\n",
    "### `score = list(map(float, info[1:]))`\n",
    "For gathering lists of scores. `map(float, info[1:])` skips the first item of each line (student name), and converts each numerical value into a float, e.g. `[67.0, 68.0, 69.0]`. Three student score lists are assigned to `score`:\n",
    "\n",
    "```\n",
    "[67.0, 68.0, 69.0]\n",
    "[70.0, 98.0, 63.0]\n",
    "[52.0, 56.0, 60.0]\n",
    "```\n",
    "\n",
    "### `d[info[0]] = sum(score) / float(len(score))`\n",
    "For calculating and storing score averages. Dividing combined score total by number of scores in the list. Three calculated student data averages are assigned to `d[info]`:\n",
    "\n",
    "```\n",
    "68.0\n",
    "77.0\n",
    "56.0\n",
    "```\n",
    "\n",
    "### `print('{:.2f}'.format(d[input()]))`\n",
    "Prints average score of student name entered as a two-decimal numerical value, e.g. `Malika`."
   ]
  }
 ],
 "metadata": {
  "kernelspec": {
   "display_name": "Python 3",
   "language": "python",
   "name": "python3"
  },
  "language_info": {
   "codemirror_mode": {
    "name": "ipython",
    "version": 3
   },
   "file_extension": ".py",
   "mimetype": "text/x-python",
   "name": "python",
   "nbconvert_exporter": "python",
   "pygments_lexer": "ipython3",
   "version": "3.6.2"
  }
 },
 "nbformat": 4,
 "nbformat_minor": 2
}

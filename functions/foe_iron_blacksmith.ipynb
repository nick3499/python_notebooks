{
 "cells": [
  {
   "cell_type": "code",
   "execution_count": 1,
   "metadata": {
    "collapsed": false
   },
   "outputs": [
    {
     "name": "stdout",
     "output_type": "stream",
     "text": [
      "enter BLACKSMITH standing structure total --> 12\n",
      "enter productivity percentage: 50|100|120|140 --> 140\n",
      "enter product name: simp|good|grip|tong|lock|helm --> good\n",
      "total production: 156 supplies\n",
      "production time: 15 minutes.\n",
      "production per hr: 1872 supplies\n"
     ]
    },
    {
     "data": {
      "text/plain": [
       "'\\nenter BLACKSMITH standing structure total --> 12\\nenter productivity percentage: 50|100|120|140 --> 140\\nenter product name: simp|good|grip|tong|lock|helm --> simp\\ntotal production: 60 supplies\\nproduction time: 5 minutes.\\nproduction per hr: 720 supplies\\n'"
      ]
     },
     "execution_count": 1,
     "metadata": {},
     "output_type": "execute_result"
    }
   ],
   "source": [
    "#!/usr/bin/python3\n",
    "# Forge of Empires: Iron Age: Blacksmith\n",
    "# boosted smithery productivity of Supplies\n",
    "\n",
    "'''\n",
    "Initial Building Costs: 430 gold coins; 40 supplies; 12 population\n",
    "\n",
    "Population/Productivity Factors:\n",
    "- productivity percentages: 50%|100%|120%|140% <--(enthusiasm +20%; coin boost +20%)\n",
    "- Supplies production amounts: 8|15|18|21\n",
    "\n",
    "For productivity percentage, \n",
    "any number other than 50, 100, 120 or 140 will return a NameError.\n",
    "Because error checking has been left out.\n",
    "'''\n",
    "\n",
    "struct_tot = float(input('enter BLACKSMITH standing structure total --> '))\n",
    "prod_percent = float(input('enter productivity percentage: 50|100|120|140 --> '))\n",
    "prod = input('enter product name: simp|good|grip|tong|lock|helm --> ')\n",
    "\n",
    "\n",
    "if prod == 'simp':\n",
    "    time = 5\n",
    "    supp_subtotal = 5\n",
    "elif prod == 'good':\n",
    "    time = 15\n",
    "    supp_subtotal = 13\n",
    "elif prod == 'grip':\n",
    "    time = 60\n",
    "    supp_subtotal = float(32)\n",
    "elif prod == 'tong':\n",
    "    time = 240\n",
    "    supp_subtotal = float(53)\n",
    "elif prod == 'lock':\n",
    "    time = 480\n",
    "    supp_subtotal = float(80)\n",
    "elif prod == 'helm':\n",
    "    time = 1440\n",
    "    supp_subtotal = float(160)\n",
    "\n",
    "print('total production: %s supplies' % int(supp_subtotal * struct_tot))\n",
    "print('production time: %s minutes.' % time)\n",
    "print('production per hr: %s supplies' % (int(supp_subtotal * struct_tot)*12))\n",
    "\n",
    "'''\n",
    "enter BLACKSMITH standing structure total --> 12\n",
    "enter productivity percentage: 50|100|120|140 --> 140\n",
    "enter product name: simp|good|grip|tong|lock|helm --> simp\n",
    "total production: 60 supplies\n",
    "production time: 5 minutes.\n",
    "production per hr: 720 supplies\n",
    "'''\n"
   ]
  },
  {
   "cell_type": "code",
   "execution_count": null,
   "metadata": {
    "collapsed": true
   },
   "outputs": [],
   "source": []
  }
 ],
 "metadata": {
  "anaconda-cloud": {},
  "kernelspec": {
   "display_name": "Python [default]",
   "language": "python",
   "name": "python3"
  },
  "language_info": {
   "codemirror_mode": {
    "name": "ipython",
    "version": 3
   },
   "file_extension": ".py",
   "mimetype": "text/x-python",
   "name": "python",
   "nbconvert_exporter": "python",
   "pygments_lexer": "ipython3",
   "version": "3.5.2"
  }
 },
 "nbformat": 4,
 "nbformat_minor": 2
}

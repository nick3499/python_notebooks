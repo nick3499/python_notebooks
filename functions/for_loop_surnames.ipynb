{
 "cells": [
  {
   "cell_type": "code",
   "execution_count": 1,
   "metadata": {
    "collapsed": false
   },
   "outputs": [
    {
     "name": "stdout",
     "output_type": "stream",
     "text": [
      "0 Smith\n",
      "1 Johnson\n",
      "2 Williams\n",
      "3 Jones\n",
      "4 Brown\n",
      "5 Davis\n",
      "6 Miller\n",
      "7 Wilson\n",
      "8 Moore\n",
      "9 Taylor\n",
      "10 Anderson\n",
      "11 Thomas\n",
      "12 Jackson\n",
      "13 White\n",
      "14 Harris\n",
      "15 Martin\n",
      "16 Thompson\n",
      "17 Garcia\n",
      "18 Martinez\n",
      "19 Robinson\n",
      "20 Clark\n",
      "21 Rodriquez\n",
      "22 Lewis\n",
      "23 Lee\n",
      "24 Walker\n",
      "25 Hall\n",
      "26 Allen\n",
      "27 Young\n",
      "28 Hernandez\n",
      "29 King\n",
      "30 Wright\n",
      "31 Lopez\n",
      "32 Hill\n",
      "33 Scott\n",
      "34 Green\n",
      "35 Adams\n",
      "36 Baker\n",
      "37 Gonzalez\n",
      "38 Nelson\n",
      "39 Carter\n",
      "40 Mitchell\n",
      "41 Perez\n",
      "42 Roberts\n",
      "43 Turner\n",
      "44 Phillips\n",
      "45 Campbell\n",
      "46 Parker\n",
      "47 Evans\n",
      "48 Edwards\n",
      "49 Collins\n",
      "50 Stewart\n",
      "51 Sanchez\n",
      "52 Morris\n",
      "53 Rogers\n",
      "54 Reed\n",
      "55 Cook\n",
      "56 Morgan\n",
      "57 Bell\n",
      "58 Murphy\n",
      "59 Bailey\n",
      "60 Rivera\n",
      "61 Cooper\n",
      "62 Richardson\n",
      "63 Cox\n",
      "64 Howard\n",
      "65 Ward\n"
     ]
    }
   ],
   "source": [
    "surnames = ['Smith', 'Johnson', 'Williams', 'Jones', 'Brown',\n",
    "            'Davis', 'Miller', 'Wilson', 'Moore', 'Taylor',\n",
    "            'Anderson', 'Thomas', 'Jackson', 'White', 'Harris',\n",
    "            'Martin', 'Thompson', 'Garcia', 'Martinez', 'Robinson',\n",
    "            'Clark', 'Rodriquez', 'Lewis', 'Lee', 'Walker',\n",
    "            'Hall', 'Allen', 'Young', 'Hernandez', 'King', 'Wright',\n",
    "            'Lopez', 'Hill', 'Scott', 'Green', 'Adams',\n",
    "            'Baker', 'Gonzalez', 'Nelson', 'Carter', 'Mitchell',\n",
    "            'Perez', 'Roberts', 'Turner', 'Phillips', 'Campbell',\n",
    "            'Parker', 'Evans', 'Edwards', 'Collins', 'Stewart',\n",
    "            'Sanchez', 'Morris', 'Rogers', 'Reed', 'Cook',\n",
    "            'Morgan', 'Bell', 'Murphy', 'Bailey', 'Rivera',\n",
    "            'Cooper', 'Richardson', 'Cox', 'Howard', 'Ward']\n",
    "for position in range(len(surnames)):\n",
    "    print(position, surnames[position])"
   ]
  }
 ],
 "metadata": {
  "kernelspec": {
   "display_name": "Python 3",
   "language": "python",
   "name": "python3"
  },
  "language_info": {
   "codemirror_mode": {
    "name": "ipython",
    "version": 3
   },
   "file_extension": ".py",
   "mimetype": "text/x-python",
   "name": "python",
   "nbconvert_exporter": "python",
   "pygments_lexer": "ipython3",
   "version": "3.5.2+"
  }
 },
 "nbformat": 4,
 "nbformat_minor": 1
}

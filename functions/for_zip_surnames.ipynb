{
 "cells": [
  {
   "cell_type": "markdown",
   "metadata": {},
   "source": [
    "When `for` gets next element from `zip(surnames, ages)`, it gets a `tuple()`. Python easily iterates over the sequence."
   ]
  },
  {
   "cell_type": "code",
   "execution_count": 9,
   "metadata": {
    "collapsed": false
   },
   "outputs": [
    {
     "name": "stdout",
     "output_type": "stream",
     "text": [
      "Surname: Smith | Age: 25\n",
      "Surname: Johnson | Age: 30\n",
      "Surname: Williams | Age: 31\n",
      "Surname: Jones | Age: 39\n",
      "Surname: Brown | Age: 26\n"
     ]
    }
   ],
   "source": [
    "surnames = ['Smith', 'Johnson', 'Williams', 'Jones', 'Brown']\n",
    "ages = [25, 30, 31, 39, 26]\n",
    "for surname, age in zip(surnames, ages):\n",
    "    print('Surname: %s | Age: %s' % (surname, age))"
   ]
  }
 ],
 "metadata": {
  "kernelspec": {
   "display_name": "Python 3",
   "language": "python",
   "name": "python3"
  },
  "language_info": {
   "codemirror_mode": {
    "name": "ipython",
    "version": 3
   },
   "file_extension": ".py",
   "mimetype": "text/x-python",
   "name": "python",
   "nbconvert_exporter": "python",
   "pygments_lexer": "ipython3",
   "version": "3.5.2+"
  }
 },
 "nbformat": 4,
 "nbformat_minor": 1
}

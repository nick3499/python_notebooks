{
 "cells": [
  {
   "cell_type": "markdown",
   "metadata": {},
   "source": [
    "# integer"
   ]
  },
  {
   "cell_type": "code",
   "execution_count": 36,
   "metadata": {
    "collapsed": false
   },
   "outputs": [
    {
     "name": "stdout",
     "output_type": "stream",
     "text": [
      "   true division: 3.2  <-- returns quotient of operands\n",
      "integer division: 3  <-- returns \"floored\" quotient of operands\n"
     ]
    }
   ],
   "source": [
    "x = 16\n",
    "y = 5\n",
    "\n",
    "print('   true division:', x / y, ' <-- returns quotient of operands')\n",
    "print('integer division:', x // y, ' <-- returns \"floored\" quotient of operands')"
   ]
  },
  {
   "cell_type": "code",
   "execution_count": 37,
   "metadata": {
    "collapsed": false
   },
   "outputs": [
    {
     "name": "stdout",
     "output_type": "stream",
     "text": [
      "integer division: -4  <-- rounds toward minus infinity\n"
     ]
    }
   ],
   "source": [
    "x = -16\n",
    "y = 5\n",
    "\n",
    "print('integer division:', x // y, ' <-- rounds toward minus infinity')"
   ]
  },
  {
   "cell_type": "markdown",
   "metadata": {},
   "source": [
    "In other words, -3.2 rounds to -4, toward negative infinity. To truncate to an integer, do the following:"
   ]
  },
  {
   "cell_type": "code",
   "execution_count": 38,
   "metadata": {
    "collapsed": false
   },
   "outputs": [
    {
     "name": "stdout",
     "output_type": "stream",
     "text": [
      "-3 <-- truncates to an integer\n"
     ]
    }
   ],
   "source": [
    "print(int(-3.2), '<-- truncates to an integer')"
   ]
  },
  {
   "cell_type": "code",
   "execution_count": 39,
   "metadata": {
    "collapsed": false
   },
   "outputs": [
    {
     "name": "stdout",
     "output_type": "stream",
     "text": [
      "modulo operator: 2 <-- calculates remainder of division\n"
     ]
    }
   ],
   "source": [
    "x = 17\n",
    "y = 5\n",
    "\n",
    "print('modulo operator:', x % y, '<-- calculates remainder of division')"
   ]
  },
  {
   "cell_type": "code",
   "execution_count": null,
   "metadata": {
    "collapsed": true
   },
   "outputs": [],
   "source": []
  }
 ],
 "metadata": {
  "anaconda-cloud": {},
  "kernelspec": {
   "display_name": "Python [conda root]",
   "language": "python",
   "name": "conda-root-py"
  },
  "language_info": {
   "codemirror_mode": {
    "name": "ipython",
    "version": 3
   },
   "file_extension": ".py",
   "mimetype": "text/x-python",
   "name": "python",
   "nbconvert_exporter": "python",
   "pygments_lexer": "ipython3",
   "version": "3.5.2"
  }
 },
 "nbformat": 4,
 "nbformat_minor": 1
}

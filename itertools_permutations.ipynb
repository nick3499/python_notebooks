{
 "cells": [
  {
   "cell_type": "code",
   "execution_count": 1,
   "metadata": {
    "collapsed": false
   },
   "outputs": [
    {
     "name": "stdout",
     "output_type": "stream",
     "text": [
      "[('E', 'T', 'A', 'S'), ('E', 'T', 'S', 'A'), ('E', 'A', 'T', 'S'), ('E', 'A', 'S', 'T'), ('E', 'S', 'T', 'A'), ('E', 'S', 'A', 'T'), ('T', 'E', 'A', 'S'), ('T', 'E', 'S', 'A'), ('T', 'A', 'E', 'S'), ('T', 'A', 'S', 'E'), ('T', 'S', 'E', 'A'), ('T', 'S', 'A', 'E'), ('A', 'E', 'T', 'S'), ('A', 'E', 'S', 'T'), ('A', 'T', 'E', 'S'), ('A', 'T', 'S', 'E'), ('A', 'S', 'E', 'T'), ('A', 'S', 'T', 'E'), ('S', 'E', 'T', 'A'), ('S', 'E', 'A', 'T'), ('S', 'T', 'E', 'A'), ('S', 'T', 'A', 'E'), ('S', 'A', 'E', 'T'), ('S', 'A', 'T', 'E')]\n"
     ]
    }
   ],
   "source": [
    "from itertools import permutations\n",
    "\n",
    "print(list(permutations('ETAS')))"
   ]
  }
 ],
 "metadata": {
  "kernelspec": {
   "display_name": "Python 3",
   "language": "python",
   "name": "python3"
  },
  "language_info": {
   "codemirror_mode": {
    "name": "ipython",
    "version": 3
   },
   "file_extension": ".py",
   "mimetype": "text/x-python",
   "name": "python",
   "nbconvert_exporter": "python",
   "pygments_lexer": "ipython3",
   "version": "3.5.2+"
  }
 },
 "nbformat": 4,
 "nbformat_minor": 1
}

{
 "cells": [
  {
   "cell_type": "markdown",
   "metadata": {},
   "source": [
    "# Preprocessing Techniques\n",
    "\n",
    "In the examples below, four preprocessing techniques will be demonstrated:\n",
    "\n",
    "- Binarization\n",
    "- Mean removal\n",
    "- Scaling\n",
    "- Normalization\n",
    "\n",
    "The matrix below was used as the sample set:"
   ]
  },
  {
   "cell_type": "code",
   "execution_count": 61,
   "metadata": {},
   "outputs": [],
   "source": [
    "import numpy as np\n",
    "from sklearn import preprocessing as pp\n",
    "\n",
    "m = np.array([[ 5.1, -2.9,  3.3],\n",
    "              [-1.2,  7.8, -6.1],\n",
    "              [ 3.9,  0.4,  2.1],\n",
    "              [ 7.3, -9.9, -4.5]])"
   ]
  },
  {
   "cell_type": "markdown",
   "metadata": {},
   "source": [
    "## Binarization\n",
    "\n",
    "`preprocessing.Binarizer()`\n",
    "\n",
    "`Binarizer()` method converts numerical values into booleans. Below, the `threshold` parameter is `2.1`. All values below 2.2 become `0`."
   ]
  },
  {
   "cell_type": "code",
   "execution_count": 62,
   "metadata": {},
   "outputs": [
    {
     "name": "stdout",
     "output_type": "stream",
     "text": [
      "\n",
      "Binarizing - fit:\n",
      " Binarizer(copy=True, threshold=0.0)\n",
      "\n",
      "Binarizing - threshold, transform:\n",
      " [[ 1.  0.  1.]\n",
      " [ 0.  1.  0.]\n",
      " [ 1.  0.  0.]\n",
      " [ 1.  0.  0.]]\n"
     ]
    }
   ],
   "source": [
    "b = pp.Binarizer().fit(m)\n",
    "b2 = pp.Binarizer(threshold = 2.1).transform(m)\n",
    "\n",
    "print(\"\\nBinarizing - fit:\\n\", b)\n",
    "print(\"\\nBinarizing - threshold, transform:\\n\", b2)"
   ]
  },
  {
   "cell_type": "markdown",
   "metadata": {},
   "source": [
    "First, in order to illustrate the difference, the `mean()` and `std()` deviation are calculated below:"
   ]
  },
  {
   "cell_type": "code",
   "execution_count": 63,
   "metadata": {},
   "outputs": [
    {
     "name": "stdout",
     "output_type": "stream",
     "text": [
      "\n",
      "Before scaling:\n",
      "Mean: [ 3.775 -1.15  -1.3  ]\n",
      "Standard: [ 3.12039661  6.36651396  4.0620192 ]\n"
     ]
    }
   ],
   "source": [
    "print(\"\\nBefore scaling:\")\n",
    "print(\"Mean:\", m.mean(axis = 0))\n",
    "print(\"Standard:\", m.std(axis = 0))"
   ]
  },
  {
   "cell_type": "markdown",
   "metadata": {},
   "source": [
    "## Mean Removal\n",
    "\n",
    "In order to center each feature on zero, the mean value is removed.\n",
    "\n",
    "`preprocessing.scale()`"
   ]
  },
  {
   "cell_type": "code",
   "execution_count": 64,
   "metadata": {},
   "outputs": [
    {
     "name": "stdout",
     "output_type": "stream",
     "text": [
      "\n",
      "After deviation:\n",
      "Mean: [  1.11022302e-16   0.00000000e+00   2.77555756e-17]\n",
      "Standard: [ 1.  1.  1.]\n"
     ]
    }
   ],
   "source": [
    "s = pp.scale(m)\n",
    "\n",
    "print(\"\\nAfter deviation:\")\n",
    "print(\"Mean:\", s.mean(axis = 0))\n",
    "print(\"Standard:\", s.std(axis = 0))"
   ]
  },
  {
   "cell_type": "markdown",
   "metadata": {},
   "source": [
    "## Minimum/Maximum Scaling\n",
    "\n",
    "Scaling maintains uniformity.\n",
    "\n",
    "`preprocessing.MinMaxScaler()`"
   ]
  },
  {
   "cell_type": "code",
   "execution_count": 65,
   "metadata": {},
   "outputs": [
    {
     "name": "stdout",
     "output_type": "stream",
     "text": [
      "\n",
      "Min/max scaled:\n",
      " [[ 0.74117647  0.39548023  1.        ]\n",
      " [ 0.          1.          0.        ]\n",
      " [ 0.6         0.5819209   0.87234043]\n",
      " [ 1.          0.          0.17021277]]\n"
     ]
    }
   ],
   "source": [
    "smm = pp.MinMaxScaler(feature_range=(0, 1))\n",
    "data_scaled_minmax = smm.fit_transform(m)\n",
    "\n",
    "print(\"\\nMin/max scaled:\\n\", data_scaled_minmax)"
   ]
  },
  {
   "cell_type": "markdown",
   "metadata": {},
   "source": [
    "## Normalization\n",
    "\n",
    "Normalization conforms values to a scale. For example, a row of values can be represented by decimal numbers which all add up to `1`, as with _L1 normalization_ or _least absolute deviations_. _L2 normalization_ is similar, but the sum of squared values is `1`. _L1 normalization_ is more effective, being resistant to outliers. But if outliers become important, then _L2_ might be preferred.\n",
    "\n",
    "`preprocessing.normalize()`"
   ]
  },
  {
   "cell_type": "code",
   "execution_count": 66,
   "metadata": {},
   "outputs": [
    {
     "name": "stdout",
     "output_type": "stream",
     "text": [
      "\n",
      "L1 normalized:\n",
      " [[ 0.45132743 -0.25663717  0.2920354 ]\n",
      " [-0.0794702   0.51655629 -0.40397351]\n",
      " [ 0.609375    0.0625      0.328125  ]\n",
      " [ 0.33640553 -0.4562212  -0.20737327]]\n",
      "\n",
      "L2 normalized:\n",
      " [[ 0.75765788 -0.43082507  0.49024922]\n",
      " [-0.12030718  0.78199664 -0.61156148]\n",
      " [ 0.87690281  0.08993875  0.47217844]\n",
      " [ 0.55734935 -0.75585734 -0.34357152]]\n"
     ]
    }
   ],
   "source": [
    "nl1 = pp.normalize(m, norm='l1')\n",
    "nl2 = pp.normalize(m, norm='l2')\n",
    "\n",
    "print(\"\\nL1 normalized:\\n\", nl1)\n",
    "print(\"\\nL2 normalized:\\n\", nl2)"
   ]
  }
 ],
 "metadata": {
  "kernelspec": {
   "display_name": "Python 3",
   "language": "python",
   "name": "python3"
  },
  "language_info": {
   "codemirror_mode": {
    "name": "ipython",
    "version": 3
   },
   "file_extension": ".py",
   "mimetype": "text/x-python",
   "name": "python",
   "nbconvert_exporter": "python",
   "pygments_lexer": "ipython3",
   "version": "3.6.3"
  }
 },
 "nbformat": 4,
 "nbformat_minor": 2
}

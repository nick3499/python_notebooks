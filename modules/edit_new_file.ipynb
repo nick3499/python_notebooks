{
 "cells": [
  {
   "cell_type": "markdown",
   "metadata": {},
   "source": [
    "# Create File Given Name"
   ]
  },
  {
   "cell_type": "markdown",
   "metadata": {},
   "source": [
    "## Shebang/Interpreter Directive"
   ]
  },
  {
   "cell_type": "code",
   "execution_count": null,
   "metadata": {},
   "outputs": [],
   "source": [
    "#!/usr/bin/env python3"
   ]
  },
  {
   "cell_type": "markdown",
   "metadata": {},
   "source": [
    "## Import os.system"
   ]
  },
  {
   "cell_type": "code",
   "execution_count": null,
   "metadata": {},
   "outputs": [],
   "source": [
    "from os import system"
   ]
  },
  {
   "cell_type": "markdown",
   "metadata": {},
   "source": [
    "## Path: Working Directory"
   ]
  },
  {
   "cell_type": "code",
   "execution_count": null,
   "metadata": {},
   "outputs": [],
   "source": [
    "PATH = '/home/foo/Documents/html/'"
   ]
  },
  {
   "cell_type": "markdown",
   "metadata": {},
   "source": [
    "## Input Filename"
   ]
  },
  {
   "cell_type": "markdown",
   "metadata": {},
   "source": [
    "User prompted to enter name of file. `.html` is automatically filled in. In this example, the text string `foo` will be assigned to the `fi` variable."
   ]
  },
  {
   "cell_type": "code",
   "execution_count": null,
   "metadata": {},
   "outputs": [],
   "source": [
    "fi = input('Fill in the blank ________.html: ')"
   ]
  },
  {
   "cell_type": "markdown",
   "metadata": {},
   "source": [
    "## Template Text Stream"
   ]
  },
  {
   "cell_type": "markdown",
   "metadata": {},
   "source": [
    "`open()` function creates a file object for _reading only_, when the `'r'` parameter is passed to it. The template file path `/home/foo/Documents/html/_template.html` is assigned to the `name` parameter. _read mode_ and `UTF-8` encoding are defaults.\n",
    "\n",
    "`<_io.TextIOWrapper name='/home/foo/Documents/html/_template.html' mode='r' encoding='UTF-8'>`"
   ]
  },
  {
   "cell_type": "code",
   "execution_count": null,
   "metadata": {},
   "outputs": [],
   "source": [
    "tr = open(PATH + '_template.html', 'r')"
   ]
  },
  {
   "cell_type": "markdown",
   "metadata": {},
   "source": [
    "## Template String"
   ]
  },
  {
   "cell_type": "markdown",
   "metadata": {},
   "source": [
    "`read()` method returns template's text string."
   ]
  },
  {
   "cell_type": "code",
   "execution_count": null,
   "metadata": {},
   "outputs": [],
   "source": [
    "ts = tr.read()"
   ]
  },
  {
   "cell_type": "markdown",
   "metadata": {},
   "source": [
    "## New File Text Stream"
   ]
  },
  {
   "cell_type": "markdown",
   "metadata": {},
   "source": [
    "Passing the `'a'` parameter to the `open()` function creates a file object for _appending only_. The new file path `/home/nick/Documents/HTML2/strapdown/foo.html` is assigned to the `name` parameter. `UTF-8` encoding is a default. Since the template string from `_template.html` will be appended to `foo.html` using the `write()` function.\n",
    "\n",
    "`<_io.TextIOWrapper name='/home/foo/Documents/html/foo.html' mode='a' encoding='UTF-8'>`\n",
    "\n",
    "The following [try...finally](https://www.programiz.com/python-programming/exception-handling#try) block ensures that the file closes."
   ]
  },
  {
   "cell_type": "code",
   "execution_count": null,
   "metadata": {},
   "outputs": [],
   "source": [
    "try:\n",
    "    nf = open(PATH + fi + '.html', 'a')\n",
    "    nf.write(ts)\n",
    "finally:\n",
    "    nf.close()"
   ]
  },
  {
   "cell_type": "markdown",
   "metadata": {},
   "source": [
    "## System"
   ]
  },
  {
   "cell_type": "markdown",
   "metadata": {},
   "source": [
    " [os.system](https://docs.python.org/3/library/os.html#os.system) executes commands in the subshell.\n",
    " - `chown 1000:1000 /home/foo/Documents/html/foo.html`\n",
    " - `chmod 755 /home/foo/Documents/html/foo.html`\n",
    " - `gedit /home/foo/Documents/html/foo.html`"
   ]
  },
  {
   "cell_type": "code",
   "execution_count": null,
   "metadata": {},
   "outputs": [],
   "source": [
    "system('chown 1000:1000 ' + PATH + fi + '.html')\n",
    "system('chmod 755 ' + PATH + fi + '.html')\n",
    "system('gedit ' + PATH + fi + '.html')"
   ]
  }
 ],
 "metadata": {
  "kernelspec": {
   "display_name": "Python [conda env:anaconda3]",
   "language": "python",
   "name": "conda-env-anaconda3-py"
  },
  "language_info": {
   "codemirror_mode": {
    "name": "ipython",
    "version": 3
   },
   "file_extension": ".py",
   "mimetype": "text/x-python",
   "name": "python",
   "nbconvert_exporter": "python",
   "pygments_lexer": "ipython3",
   "version": "3.6.4"
  }
 },
 "nbformat": 4,
 "nbformat_minor": 2
}

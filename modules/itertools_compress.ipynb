{
 "cells": [
  {
   "cell_type": "markdown",
   "metadata": {},
   "source": [
    " - `compress(data, selectors)` filters elements from data\n",
    " - only elements which evaluate `True` are returned\n",
    " - stops when either _selectors_ or _data_ have been exhausted\n",
    " - [itertools.compress](https://docs.python.org/3/library/itertools.html#itertools.compress)"
   ]
  },
  {
   "cell_type": "code",
   "execution_count": 2,
   "metadata": {
    "collapsed": false
   },
   "outputs": [
    {
     "name": "stdout",
     "output_type": "stream",
     "text": [
      "[0, 2, 4, 6, 8, 10, 12, 14, 16, 18]\n",
      "[1, 3, 5, 7, 9, 11, 13, 15, 17, 19]\n"
     ]
    }
   ],
   "source": [
    "from itertools import compress\n",
    "\n",
    "data          = range(20)\n",
    "even_selector = [1, 0] * 20\n",
    "odd_selector  = [0, 1] * 20\n",
    "\n",
    "even_numbers = list(compress(data, even_selector))\n",
    "odd_numbers  = list(compress(data, odd_selector ))\n",
    "\n",
    "print(even_numbers)\n",
    "print(odd_numbers )"
   ]
  }
 ],
 "metadata": {
  "kernelspec": {
   "display_name": "Python 3",
   "language": "python",
   "name": "python3"
  },
  "language_info": {
   "codemirror_mode": {
    "name": "ipython",
    "version": 3
   },
   "file_extension": ".py",
   "mimetype": "text/x-python",
   "name": "python",
   "nbconvert_exporter": "python",
   "pygments_lexer": "ipython3",
   "version": "3.5.2+"
  }
 },
 "nbformat": 4,
 "nbformat_minor": 1
}

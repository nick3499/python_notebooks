{
 "cells": [
  {
   "cell_type": "markdown",
   "metadata": {},
   "source": [
    "# Markdown to HTML"
   ]
  },
  {
   "cell_type": "markdown",
   "metadata": {},
   "source": [
    "## Shebang/Interpreter Directive"
   ]
  },
  {
   "cell_type": "code",
   "execution_count": 1,
   "metadata": {},
   "outputs": [],
   "source": [
    "#!/usr/bin/env python3"
   ]
  },
  {
   "cell_type": "markdown",
   "metadata": {},
   "source": [
    "## Import Modules"
   ]
  },
  {
   "cell_type": "code",
   "execution_count": 2,
   "metadata": {},
   "outputs": [],
   "source": [
    "import codecs as co\n",
    "import markdown as md"
   ]
  },
  {
   "cell_type": "markdown",
   "metadata": {},
   "source": [
    "## Create Markdown Object"
   ]
  },
  {
   "cell_type": "markdown",
   "metadata": {},
   "source": [
    "`codecs.open()` converts `markdown.txt` to a single string of markdown-formatted data, then returns a _codecs.StreamReaderWriter object_. `mode=\"r\"` is default mode which means _read data_. `encoding=\"utf-8\"` specifies _UTF-8_."
   ]
  },
  {
   "cell_type": "code",
   "execution_count": 3,
   "metadata": {},
   "outputs": [],
   "source": [
    "md_obj = co.open(\"markdown.txt\", mode=\"r\", encoding=\"utf-8\")"
   ]
  },
  {
   "cell_type": "markdown",
   "metadata": {},
   "source": [
    "`<codecs.StreamReaderWriter object at 0x7f91720d7978>`. `0x7f91720d7978` represents the object's memory location."
   ]
  },
  {
   "cell_type": "markdown",
   "metadata": {},
   "source": [
    "## Read Markdown Object"
   ]
  },
  {
   "cell_type": "markdown",
   "metadata": {},
   "source": [
    "`read()` the markdown-formatted string stored in the _codecs.StreamReaderWriter object_ which is then assigned to `md_str`."
   ]
  },
  {
   "cell_type": "code",
   "execution_count": 4,
   "metadata": {},
   "outputs": [],
   "source": [
    "md_str = md_obj.read()"
   ]
  },
  {
   "cell_type": "markdown",
   "metadata": {},
   "source": [
    "`'# H1 Heading\\n\\nFirst line with **bold**.\\n\\n## H2 Heading\\n\\nSecond line with _italics_.\\n\\n### H3 Heading\\n\\nThird line with ``code`` and [link](http://www.example.com).\\n\\n#### H4 Heading\\n\\nFourth line with **_bold italics_**.\\n\\n##### H5 Heading\\n'`"
   ]
  },
  {
   "cell_type": "markdown",
   "metadata": {},
   "source": [
    "## Convert Markdown to HTML"
   ]
  },
  {
   "cell_type": "markdown",
   "metadata": {},
   "source": [
    "`markdown.markdown()` converts the Markdown string (shown above) to the HTML string (shown below)."
   ]
  },
  {
   "cell_type": "code",
   "execution_count": 5,
   "metadata": {},
   "outputs": [],
   "source": [
    "html = md.markdown(md_str)"
   ]
  },
  {
   "cell_type": "markdown",
   "metadata": {},
   "source": [
    "`'<h1>H1 Heading</h1>\\n<p>First line with <strong>bold</strong>.</p>\\n<h2>H2 Heading</h2>\\n<p>Second line with <em>italics</em>.</p>\\n<h3>H3 Heading</h3>\\n<p>Third line with <code>code</code> and <a href=\"http://www.example.com\">link</a>.</p>\\n<h4>H4 Heading</h4>\\n<p>Fourth line with <strong><em>bold italics</em></strong>.</p>\\n<h5>H5 Heading</h5>'`"
   ]
  },
  {
   "cell_type": "markdown",
   "metadata": {},
   "source": [
    "## Create HTML Object"
   ]
  },
  {
   "cell_type": "markdown",
   "metadata": {},
   "source": [
    "`codecs.open()` returns a _codecs.StreamReaderWriter object_ for the HTML output file, given `\"w\"` or _write mode_. `out.html` will become the new HTML file added to the working directory."
   ]
  },
  {
   "cell_type": "code",
   "execution_count": 6,
   "metadata": {},
   "outputs": [],
   "source": [
    "output = co.open(\"out.html\", \"w\", encoding=\"utf-8\", errors=\"xmlcharrefreplace\")"
   ]
  },
  {
   "cell_type": "markdown",
   "metadata": {},
   "source": [
    "`<codecs.StreamReaderWriter object at 0x7f9171914ef0>`"
   ]
  },
  {
   "cell_type": "markdown",
   "metadata": {},
   "source": [
    "## Output HTML File"
   ]
  },
  {
   "cell_type": "markdown",
   "metadata": {},
   "source": [
    "Write out `out.html`"
   ]
  },
  {
   "cell_type": "code",
   "execution_count": 7,
   "metadata": {},
   "outputs": [],
   "source": [
    "output.write(html)"
   ]
  },
  {
   "cell_type": "code",
   "execution_count": 8,
   "metadata": {},
   "outputs": [
    {
     "name": "stdout",
     "output_type": "stream",
     "text": [
      "<h1>H1 Heading</h1>\n",
      "<p>First line with <strong>bold</strong>.</p>\n",
      "<h2>H2 Heading</h2>\n",
      "<p>Second line with <em>italics</em>.</p>\n",
      "<h3>H3 Heading</h3>\n",
      "<p>Third line with <code>code</code> and <a href=\"http://www.example.com\">link</a>.</p>\n",
      "<h4>H4 Heading</h4>\n",
      "<p>Fourth line with <strong><em>bold italics</em></strong>.</p>\n",
      "<h5>H5 Heading</h5>\n"
     ]
    }
   ],
   "source": [
    "print(html)"
   ]
  }
 ],
 "metadata": {
  "kernelspec": {
   "display_name": "Python 3",
   "language": "python",
   "name": "python3"
  },
  "language_info": {
   "codemirror_mode": {
    "name": "ipython",
    "version": 3
   },
   "file_extension": ".py",
   "mimetype": "text/x-python",
   "name": "python",
   "nbconvert_exporter": "python",
   "pygments_lexer": "ipython3",
   "version": "3.5.2"
  }
 },
 "nbformat": 4,
 "nbformat_minor": 2
}

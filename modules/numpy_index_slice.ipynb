{
 "cells": [
  {
   "cell_type": "markdown",
   "metadata": {},
   "source": [
    "# Indexing and Slicing\n",
    "\n",
    "`alist[0][1]` indexes 2nd element of 1st list which returns `2`."
   ]
  },
  {
   "cell_type": "code",
   "execution_count": 1,
   "metadata": {},
   "outputs": [
    {
     "name": "stdout",
     "output_type": "stream",
     "text": [
      "2\n"
     ]
    }
   ],
   "source": [
    "import numpy as np\n",
    "\n",
    "alist = [[1,2],[3,4]]\n",
    "print(alist[0][1])"
   ]
  },
  {
   "cell_type": "markdown",
   "metadata": {},
   "source": [
    "But to index an entire row or an entire list, the list above must can be converted to a numpy array.\n",
    " - `arr1[0,1]` indexes 2nd element in 1st list, which returns `2`.\n",
    " - `arr1[:,1]` indexes 2nd elements of both lists, which returns `[2 4]`\n",
    " - `arr1[1,:]` indexes both elements in 2nd list, which returns `[3 4]`"
   ]
  },
  {
   "cell_type": "code",
   "execution_count": 1,
   "metadata": {},
   "outputs": [
    {
     "name": "stdout",
     "output_type": "stream",
     "text": [
      "[[1 2]\n",
      " [3 4]]\n",
      "2\n",
      "[2 4]\n",
      "[3 4]\n"
     ]
    }
   ],
   "source": [
    "arr1 = np.array(alist)  # [[1 2] [3 4]]\n",
    "print(arr1)\n",
    "print(arr1[0,1])\n",
    "print(arr1[:,1])\n",
    "print(arr1[1,:])"
   ]
  },
  {
   "cell_type": "markdown",
   "metadata": {},
   "source": [
    "## Conditional Indexing"
   ]
  },
  {
   "cell_type": "code",
   "execution_count": 1,
   "metadata": {},
   "outputs": [
    {
     "name": "stdout",
     "output_type": "stream",
     "text": [
      "(array([3, 4]),)\n",
      "[0 1 2]\n"
     ]
    }
   ],
   "source": [
    "arr2 = np.arange(5)\n",
    "index = np.where(arr2 > 2)\n",
    "print(index)\n",
    "new_arr1 = np.delete(arr, index)\n",
    "print(new_arr1)"
   ]
  },
  {
   "cell_type": "markdown",
   "metadata": {},
   "source": [
    "### Alternative\n",
    "\n",
    "Use conventional conditional indexing (which may require less code)."
   ]
  },
  {
   "cell_type": "code",
   "execution_count": 1,
   "metadata": {},
   "outputs": [
    {
     "name": "stdout",
     "output_type": "stream",
     "text": [
      "[3 4]\n"
     ]
    }
   ],
   "source": [
    "arr3 = np.arange(5)\n",
    "index = arr3 > 2\n",
    "new_arr2 = arr3[index]\n",
    "print(new_arr2)"
   ]
  }
 ],
 "metadata": {
  "kernelspec": {
   "display_name": "Python 3",
   "language": "python",
   "name": "python3"
  },
  "language_info": {
   "codemirror_mode": {
    "name": "ipython",
    "version": 3
   },
   "file_extension": ".py",
   "mimetype": "text/x-python",
   "name": "python",
   "nbconvert_exporter": "python",
   "pygments_lexer": "ipython3",
   "version": "3.6.1"
  }
 },
 "nbformat": 4,
 "nbformat_minor": 2
}

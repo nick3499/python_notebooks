{
 "cells": [
  {
   "cell_type": "markdown",
   "metadata": {},
   "source": [
    "# numpy.ndarray, list\n",
    "## modules: numpy, timeit\n",
    "\n",
    "After importing the `timeit` and `numpy` modules, create a `numpy.ndarray` with 10,000,000 elements, assigning `np.arange(1e7)`. Then convert `numpy.ndarray` into a `list`."
   ]
  },
  {
   "cell_type": "code",
   "execution_count": 3,
   "metadata": {
    "collapsed": true
   },
   "outputs": [],
   "source": [
    "import timeit\n",
    "import numpy as np\n",
    "\n",
    "arr = np.arange(1e7)\n",
    "larr = arr.tolist()"
   ]
  },
  {
   "cell_type": "markdown",
   "metadata": {},
   "source": [
    "Lists cannot be default broadcast, so a function is coded to emulate what `numpy.ndarray` can do."
   ]
  },
  {
   "cell_type": "code",
   "execution_count": 4,
   "metadata": {
    "collapsed": true
   },
   "outputs": [],
   "source": [
    "def list_times(alist, scalar):\n",
    "    for i, val in enumerate(alist):\n",
    "        alist[i] = val * scalar\n",
    "    return alist\n",
    "\n",
    "N = 10  # tries"
   ]
  },
  {
   "cell_type": "markdown",
   "metadata": {},
   "source": [
    "We are not using IPython's magic timeit command here. This enables you to run the script in as a script. NumPy array broadcasting."
   ]
  },
  {
   "cell_type": "code",
   "execution_count": 9,
   "metadata": {},
   "outputs": [
    {
     "name": "stdout",
     "output_type": "stream",
     "text": [
      "0.05112466719983786\n",
      "1.624783319799826\n"
     ]
    }
   ],
   "source": [
    "time1 = timeit.timeit('arr * 1.1', 'from __main__ import arr', number=N) / N\n",
    "print(time1)\n",
    "\n",
    "# List and custom function for broadcasting\n",
    "time2 = timeit.timeit('list_times(larr, 1.1)',\n",
    "    'from __main__ import list_times, larr', number=N) / N\n",
    "print(time2)  # test may continue for 15-20 seconds"
   ]
  },
  {
   "cell_type": "markdown",
   "metadata": {},
   "source": [
    "#### IPython:\n",
    "\n",
    "`In [1]: %run -m np_2_1_timeit`\n",
    "\n",
    "[Built-in magic command: run](https://ipython.org/ipython-doc/3/interactive/magics.html#magic-run)"
   ]
  },
  {
   "cell_type": "code",
   "execution_count": 8,
   "metadata": {},
   "outputs": [
    {
     "data": {
      "text/plain": [
       "10000000"
      ]
     },
     "execution_count": 8,
     "metadata": {},
     "output_type": "execute_result"
    }
   ],
   "source": [
    "int(1e7)  # http://www.numberworlds.com/numbers/1e7"
   ]
  }
 ],
 "metadata": {
  "kernelspec": {
   "display_name": "Python 3",
   "language": "python",
   "name": "python3"
  },
  "language_info": {
   "codemirror_mode": {
    "name": "ipython",
    "version": 3
   },
   "file_extension": ".py",
   "mimetype": "text/x-python",
   "name": "python",
   "nbconvert_exporter": "python",
   "pygments_lexer": "ipython3",
   "version": "3.6.1"
  }
 },
 "nbformat": 4,
 "nbformat_minor": 2
}

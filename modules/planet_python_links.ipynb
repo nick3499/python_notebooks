{
 "metadata": {
  "name": "",
  "signature": "sha256:a539d81f1858264dd7fadb3def0c295d357f1df36579f4b949e5152b5a6567ae"
 },
 "nbformat": 3,
 "nbformat_minor": 0,
 "worksheets": [
  {
   "cells": [
    {
     "cell_type": "heading",
     "level": 1,
     "metadata": {},
     "source": [
      "Print Links from Planet Python feed"
     ]
    },
    {
     "cell_type": "markdown",
     "metadata": {},
     "source": [
      "Use the **`untangle`** Python module to print URLs from the Planet Python feed, including link titles:"
     ]
    },
    {
     "cell_type": "heading",
     "level": 2,
     "metadata": {},
     "source": [
      "Import `untangle`"
     ]
    },
    {
     "cell_type": "markdown",
     "metadata": {},
     "source": [
      "Import Python module:"
     ]
    },
    {
     "cell_type": "code",
     "collapsed": false,
     "input": [
      "import untangle as ut"
     ],
     "language": "python",
     "metadata": {},
     "outputs": [],
     "prompt_number": 1
    },
    {
     "cell_type": "heading",
     "level": 2,
     "metadata": {},
     "source": [
      "Feed Source"
     ]
    },
    {
     "cell_type": "markdown",
     "metadata": {},
     "source": [
      "Assign string from the **`rss20.xml`** file to a variable named **`r`**:"
     ]
    },
    {
     "cell_type": "raw",
     "metadata": {},
     "source": [
      ">>> r\n",
      "'http://planetpython.org/rss20.xml'\n",
      ">>> type(r)\n",
      "<type 'str'>"
     ]
    },
    {
     "cell_type": "code",
     "collapsed": false,
     "input": [
      "r = 'http://planetpython.org/rss20.xml'"
     ],
     "language": "python",
     "metadata": {},
     "outputs": [],
     "prompt_number": 2
    },
    {
     "cell_type": "heading",
     "level": 2,
     "metadata": {},
     "source": [
      "Parse Feed"
     ]
    },
    {
     "cell_type": "markdown",
     "metadata": {},
     "source": [
      "The untangle **`parse()`** function will create an **`untangle.Element`** class object:"
     ]
    },
    {
     "cell_type": "raw",
     "metadata": {},
     "source": [
      ">>> p\n",
      "Element(name = None, attributes = None, cdata = )\n",
      ">>> type(p)\n",
      "<class 'untangle.Element'>"
     ]
    },
    {
     "cell_type": "code",
     "collapsed": false,
     "input": [
      "p = ut.parse(r)"
     ],
     "language": "python",
     "metadata": {},
     "outputs": [],
     "prompt_number": 3
    },
    {
     "cell_type": "heading",
     "level": 2,
     "metadata": {},
     "source": [
      "Total Items"
     ]
    },
    {
     "cell_type": "markdown",
     "metadata": {},
     "source": [
      "Python's built-in **`len()`** function can count total feed items:"
     ]
    },
    {
     "cell_type": "code",
     "collapsed": false,
     "input": [
      "print 'Total items:', len(p.rss.channel.item)"
     ],
     "language": "python",
     "metadata": {},
     "outputs": [
      {
       "output_type": "stream",
       "stream": "stdout",
       "text": [
        "Total items: 25\n"
       ]
      }
     ],
     "prompt_number": 4
    },
    {
     "cell_type": "heading",
     "level": 2,
     "metadata": {},
     "source": [
      "Print URLs and Titles"
     ]
    },
    {
     "cell_type": "markdown",
     "metadata": {},
     "source": [
      "Iterate through parsed feed. The **`cdata`** function is used to specify feed data when added to the end of a dictionary call. Below, the **`item`** tag is accessed through the **`rss`** > **`channel`** > **`item`** route. Finally, current _title_ and _link_ data is printed."
     ]
    },
    {
     "cell_type": "code",
     "collapsed": false,
     "input": [
      "for i in p.rss.channel.item:\n",
      "    t = i.title.cdata\n",
      "    l = i.link.cdata\n",
      "    if l:\n",
      "        print 'Title:', t\n",
      "        print '  URL:', l"
     ],
     "language": "python",
     "metadata": {},
     "outputs": [
      {
       "output_type": "stream",
       "stream": "stdout",
       "text": [
        "Title: Codementor: Python Strings\n",
        "  URL: https://www.codementor.io/chrisbons/python-strings-eqwwsj34q\n",
        "Title: Programiz: Python Matrix\n",
        "  URL: https://www.programiz.com/python-programming/matrix\n",
        "Title: A. Jesse Jiryu Davis: Announcing Motor 1.2 Release Candidate, With MongoDB 3.6 Support\n",
        "  URL: https://emptysqua.re/blog/motor-1-2-release-candidate/\n",
        "Title: Mike Driscoll: Flask 101: How to Add a Search Form\n",
        "  URL: http://www.blog.pythonlibrary.org/2017/12/13/flask-101-how-to-add-a-search-form/\n",
        "Title: Wingware News: Wing Python IDE 6.0.9: December 13, 2017\n",
        "  URL: http://wingware.com/news/2017-12-13\n",
        "Title: Python Anywhere: Introducing the beta for always-on tasks\n",
        "  URL: http://blog.pythonanywhere.com/161/\n",
        "Title: Python Engineering at Microsoft: North Bay Python 2017 Recap\n",
        "  URL: https://blogs.msdn.microsoft.com/pythonengineering/2017/12/12/north-bay-python-2017-recap/\n",
        "Title: Django Weblog: DSF travel grants available for PyCon Namibia 2018\n",
        "  URL: https://www.djangoproject.com/weblog/2017/dec/12/dsf-travel-grants-available-pycon-namibia-2018/\n",
        "Title: Kushal Das: Qubes OS 4.0rc3 and latest UEFI systems\n",
        "  URL: https://kushaldas.in/posts/qubes-os-4-0rc3-and-latest-uefi-systems.html\n",
        "Title: Programiz: Python Arrays\n",
        "  URL: https://www.programiz.com/python-programming/array\n",
        "Title: Continuum Analytics Blog: Anaconda Welcomes Lars Ewe as SVP of Engineering\n",
        "  URL: https://www.anaconda.com/blog/news/anaconda-welcomes-lars-ewe-as-svp-of-engineering/\n",
        "Title: PyCon: Python Education Summit celebrates its 6th year in 2018\n",
        "  URL: http://pycon.blogspot.com/2017/12/python-education-summit-celebrates-its.html\n",
        "Title: pgcli: Introducing mssql-cli - A query tool for SQL Server\n",
        "  URL: http://pgcli.com/mssql-cli.html\n",
        "Title: PyCon Pune: Welcome Brett Cannon, Our First Keynote Speaker\n",
        "  URL: https://pune.pycon.org/blog/post/welcome-brett-cannon-our-first-keynote-speaker/\n",
        "Title: Mike Driscoll: Flask 101: Adding a Database\n",
        "  URL: http://www.blog.pythonlibrary.org/2017/12/12/flask-101-adding-a-database/\n",
        "Title: Mike Driscoll: Flask 101: Getting Started\n",
        "  URL: http://www.blog.pythonlibrary.org/2017/12/12/flask-101-getting-started/\n",
        "Title: NumFOCUS: Starting D&amp;I Conversations at Work \u2014 Notes from the DISC Unconference\n",
        "  URL: https://www.numfocus.org/blog/starting-di-conversations-at-work-notes-from-the-disc-unconference/\n",
        "Title: Weekly Python Chat: CSV Modules\n",
        "  URL: https://www.crowdcast.io/e/csv-module\n",
        "Title: Filipe Saraiva: KDE Edu Sprint 2017\n",
        "  URL: http://blog.filipesaraiva.info/?p=1885\n",
        "Title: Real Python: Building a Simple Web App with Bottle, SQLAlchemy, and the Twitter API\n",
        "  URL: https://realpython.com/blog/python/building-a-simple-web-app-with-bottle-sqlalchemy-twitter-api/\n",
        "Title: Possbility and Probability: Example of great documentation in Python\n",
        "  URL: https://ironboundsoftware.com/blog/2017/12/11/great-documentation-python/\n",
        "Title: Doug Hellmann: subprocess \u2014 Spawning Additional Processes \u2014 PyMOTW 3\n",
        "  URL: http://feeds.doughellmann.com/~r/doughellmann/python/~3/t9cPA8LiceA/\n",
        "Title: PyCharm: Developing in a VM with Vagrant and Ansible\n",
        "  URL: http://feedproxy.google.com/~r/Pycharm/~3/lmZ-YugVlwo/\n",
        "Title: Mike Driscoll: PyDev of the Week: Anthony Tuininga\n",
        "  URL: http://www.blog.pythonlibrary.org/2017/12/11/pydev-of-the-week-anthony-tuininga/\n",
        "Title: PyCharm: PyCharm 2017.3.1 RC\n",
        "  URL: http://feedproxy.google.com/~r/Pycharm/~3/9QkYlcm74NI/\n"
       ]
      }
     ],
     "prompt_number": 5
    }
   ],
   "metadata": {}
  }
 ]
}
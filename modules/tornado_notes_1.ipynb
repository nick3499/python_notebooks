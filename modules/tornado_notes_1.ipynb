{
 "cells": [
  {
   "cell_type": "markdown",
   "metadata": {},
   "source": [
    "# Tornado Notes"
   ]
  },
  {
   "cell_type": "code",
   "execution_count": 3,
   "metadata": {},
   "outputs": [
    {
     "name": "stdout",
     "output_type": "stream",
     "text": [
      "Distributor ID:\tUbuntu\n",
      "Description:\tUbuntu 16.04.2 LTS\n",
      "Release:\t16.04\n",
      "Codename:\txenial\n"
     ]
    },
    {
     "name": "stderr",
     "output_type": "stream",
     "text": [
      "No LSB modules are available.\n"
     ]
    }
   ],
   "source": [
    "%%bash\n",
    "lsb_release -a"
   ]
  },
  {
   "cell_type": "markdown",
   "metadata": {},
   "source": [
    "#### Install Tornado\n",
    "\n",
    " - `$ apt install python-tornado`\n",
    "\n",
    "#### Additional Packages:\n",
    " - `python-pycurl`\n",
    " - `python-pymysql`\n",
    "\n",
    "#### Tornado Web Framework\n",
    "\n",
    "**Tornado** is a Python web framework and asynchronous networking library, originally developed at FriendFeed. By using non-blocking network I/O, Tornado can scale to tens of thousands of open connections, making it ideal for long polling, WebSockets, and other applications that require a long-lived connection to each user.\n",
    "\n",
    "#### tornado.httpserver\n",
    " - A non-blocking, single-threaded HTTP server.\n",
    "\n",
    "#### tornado.ioloop\n",
    " - An I/O event loop for non-blocking sockets.\n",
    "\n",
    "#### tornado.web\n",
    " - provides a simple web framework with asynchronous features that allow it to scale to large numbers of open connections, making it ideal for long polling.\n",
    "\n",
    "#### tornado.options\n",
    " - A command line parsing module that lets modules define their own options.\n",
    "\n",
    "#### tornado.options.define\n",
    " - Defines an option in the global namespace.\n",
    "\n",
    "#### tornado.options.options\n",
    " - Global options object. All defined options are available as attributes on this object."
   ]
  },
  {
   "cell_type": "markdown",
   "metadata": {},
   "source": [
    "```py\n",
    "import tornado.httpserver\n",
    "import tornado.ioloop\n",
    "import tornado.options\n",
    "import tornado.web\n",
    "from tornado.options import define, options\n",
    "\n",
    "define(\"port\", default=8000, help=\"run on the given port\", type=int)\n",
    "\n",
    "class IndexHandler(tornado.web.RequestHandler):\n",
    "    def get(self):\n",
    "        greeting = self.get_argument('greeting', 'Hello')\n",
    "        self.write(greeting + ', friendly user!')\n",
    "\n",
    "if __name__ == \"__main__\":\n",
    "    tornado.options.parse_command_line()\n",
    "    app = tornado.web.Application(handlers=[(r\"/\", IndexHandler)])\n",
    "    http_server = tornado.httpserver.HTTPServer(app)\n",
    "    http_server.listen(options.port)\n",
    "    tornado.ioloop.IOLoop.instance().start()\n",
    "```"
   ]
  },
  {
   "cell_type": "markdown",
   "metadata": {},
   "source": [
    "`$ python hello.py`\n",
    "\n",
    "```bash\n",
    "[I 170608 13:50:30 web:2063] 200 GET / (127.0.0.1) 1.24ms\n",
    "[W 170608 13:50:30 web:2063] 404 GET /favicon.ico (127.0.0.1) 0.80ms\n",
    "```\n",
    "\n",
    "Load `http://127.0.0.1:8000/` in **Chrome**.\n",
    "\n",
    "#### CLI Examples\n",
    "\n",
    " - `$ python hello.py --port=8080`\n",
    " - `$ python hello.py --help`\n",
    " - `$ curl http://localhost:8000/?greeting=Howdy`"
   ]
  },
  {
   "cell_type": "markdown",
   "metadata": {},
   "source": [
    "#### Request Handler Class\n",
    "\n",
    "```py\n",
    "class IndexHandler(tornado.web.RequestHandler):\n",
    "    def get(self):\n",
    "        greeting = self.get_argument('greeting', 'Hello')\n",
    "        self.write(greeting + ', friendly user!')\n",
    "```\n",
    "\n",
    "#### `RequestHandler` Methods\n",
    "\n",
    " - [get_argument](http://www.tornadoweb.org/en/stable/web.html#tornado.web.RequestHandler.get_argument) (HTTP GET)\n",
    " - [write](http://www.tornadoweb.org/en/stable/web.html#tornado.web.RequestHandler.write)\n",
    "\n",
    "#### IndexHandler Class\n",
    "\n",
    "While handling requests, Tornado instantiates `IndexHandler`, the request handler class listed in the namespace (see below). The built-in method `IndexHandler.get_argument` returns the value of the `greeting` argument which is `Hello`, also becoming the default value. The built-in method `IndexHandler.write` takes the string parameter `greeting + ', friendly user!'`, interpolates it into a greeting and writes it into a HTTP response. If no value for `greeting` is given, the default greeting `Hello, friendly user!` displays in the browser window.\n",
    "\n",
    "```bash\n",
    ">>> dir()\n",
    "['IndexHandler', '__annotations__', '__builtins__', '__cached__', '__doc__', '__loader__', '__name__', '__package__', '__spec__', 'app', 'define', 'http_server', 'options', 'tornado']\n",
    ">>> print(tornado.version)\n",
    "4.5.1\n",
    ">>> print(options.port)\n",
    "8000\n",
    "```\n",
    "\n",
    "#### Run Tornado\n",
    "\n",
    "```py\n",
    "if __name__ == \"__main__\":\n",
    "    tornado.options.parse_command_line()\n",
    "    app = tornado.web.Application(handlers=[(r\"/\", IndexHandler)])\n",
    "    http_server = tornado.httpserver.HTTPServer(app)\n",
    "    http_server.listen(options.port)\n",
    "    tornado.ioloop.IOLoop.instance().start()\n",
    "```\n",
    "\n",
    "Command line is parsed, then an instance of `Application` class is created. The `Application` object is passed to the `HTTPServer` object, which listens to default port `8000` if a port was not specified on command line. Then an instance of `IOLoop` is created. At that point, the script is ready to accept HTTP requests."
   ]
  }
 ],
 "metadata": {
  "kernelspec": {
   "display_name": "Python 3",
   "language": "python",
   "name": "python3"
  },
  "language_info": {
   "codemirror_mode": {
    "name": "ipython",
    "version": 3
   },
   "file_extension": ".py",
   "mimetype": "text/x-python",
   "name": "python",
   "nbconvert_exporter": "python",
   "pygments_lexer": "ipython3",
   "version": "3.6.1"
  }
 },
 "nbformat": 4,
 "nbformat_minor": 2
}

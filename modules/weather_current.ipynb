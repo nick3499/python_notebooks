{
 "cells": [
  {
   "cell_type": "markdown",
   "metadata": {},
   "source": [
    "# Dark Sky API: Current Weather"
   ]
  },
  {
   "cell_type": "markdown",
   "metadata": {},
   "source": [
    "This script gets and prints current weather data from [Dark Sky API](https://darksky.net/dev) in the CLI. An API key is required."
   ]
  },
  {
   "cell_type": "markdown",
   "metadata": {},
   "source": [
    "### Shebang/Interpreter Directive"
   ]
  },
  {
   "cell_type": "code",
   "execution_count": 32,
   "metadata": {},
   "outputs": [],
   "source": [
    "#!/usr/bin/env python3"
   ]
  },
  {
   "cell_type": "markdown",
   "metadata": {},
   "source": [
    "### Import [urllib3](https://pypi.python.org/pypi/urllib3), [simplejson](https://pypi.python.org/pypi/simplejson/) and [datetime](https://docs.python.org/3/library/datetime.html)"
   ]
  },
  {
   "cell_type": "markdown",
   "metadata": {},
   "source": [
    "If `import json` does not work, then try `simplejson`. My Jupyter Notebook needed to import `json`."
   ]
  },
  {
   "cell_type": "code",
   "execution_count": 33,
   "metadata": {},
   "outputs": [],
   "source": [
    "import urllib3 as ul3\n",
    "import json\n",
    "import datetime"
   ]
  },
  {
   "cell_type": "markdown",
   "metadata": {},
   "source": [
    "### Disable Warnings"
   ]
  },
  {
   "cell_type": "markdown",
   "metadata": {},
   "source": [
    "SSL certification verification returns `InsecureRequestWarning`, so `urllib3.disable_warnings()` can be used to suppress the warning."
   ]
  },
  {
   "cell_type": "code",
   "execution_count": 34,
   "metadata": {},
   "outputs": [],
   "source": [
    "ul3.disable_warnings(ul3.exceptions.InsecureRequestWarning)"
   ]
  },
  {
   "cell_type": "markdown",
   "metadata": {},
   "source": [
    "### API Key and Geographic Coordinates"
   ]
  },
  {
   "cell_type": "markdown",
   "metadata": {},
   "source": [
    "The following strings fill out the Dark Sky API _key_, followed by geographic _coordinates_ of the weather location."
   ]
  },
  {
   "cell_type": "code",
   "execution_count": 35,
   "metadata": {},
   "outputs": [],
   "source": [
    "k = 'abcd00efgh2de13aceg2c841113b837d'  # example\n",
    "c = '40.7306, -73.9352'"
   ]
  },
  {
   "cell_type": "markdown",
   "metadata": {},
   "source": [
    "### urllib3.PoolManager, request()"
   ]
  },
  {
   "cell_type": "markdown",
   "metadata": {},
   "source": [
    "`urllib3.PoolManager()` class is used for making the server request."
   ]
  },
  {
   "cell_type": "code",
   "execution_count": 36,
   "metadata": {},
   "outputs": [],
   "source": [
    "h = ul3.PoolManager()\n",
    "r = h.request('GET', 'https://api.darksky.net/forecast/' + k + '/' + c)"
   ]
  },
  {
   "cell_type": "markdown",
   "metadata": {},
   "source": [
    "### Convert Angle to Cardinal Direction"
   ]
  },
  {
   "cell_type": "markdown",
   "metadata": {},
   "source": [
    "`windBearing`'s value is an integer which indicates angle of wind direction with true north at 0°. So the following function converts that angle to a cardinal direction letter(s)."
   ]
  },
  {
   "cell_type": "code",
   "execution_count": 37,
   "metadata": {},
   "outputs": [],
   "source": [
    "def degrees_to_cardinal(d):\n",
    "    dirs = [\"N\", \"NNE\", \"NE\", \"ENE\", \"E\", \"ESE\", \"SE\", \"SSE\",\n",
    "            \"S\", \"SSW\", \"SW\", \"WSW\", \"W\", \"WNW\", \"NW\", \"NNW\"]\n",
    "    ix = int((d + 11.25)/22.5 - 0.02)\n",
    "    return dirs[ix % 16]"
   ]
  },
  {
   "cell_type": "markdown",
   "metadata": {},
   "source": [
    "### Format Weather Data"
   ]
  },
  {
   "cell_type": "markdown",
   "metadata": {},
   "source": [
    "The following print calls format the weather data for the CLI. Unfortunately, there are two `KeyError`'s which indicate that data was unavailable at the present time. Which is the purpose for the two try/except clauses below. Based on that, additional try/except clauses can be added, if other `KeyError` exceptions are experienced."
   ]
  },
  {
   "cell_type": "code",
   "execution_count": 38,
   "metadata": {},
   "outputs": [
    {
     "name": "stdout",
     "output_type": "stream",
     "text": [
      "\n",
      "\u001b[1;34mCurrent Weather\u001b[0;0m (data provided thru Dark Sky API)\n",
      "\n",
      "Date/Time: 2018-01-15 17:19:15\n",
      "Summary  : Breezy and Foggy \n",
      "\n",
      "Distance to nearest storm: 4 miles\n",
      "\u001b[1;34mPrecipitation:\u001b[0;0m\n",
      "* intensity             : 0 mm/h\n",
      "KeyError: omitted data\n",
      "* probability           : 0 percent\n",
      "KeyError: omitted data\n",
      "\u001b[1;34mTemperature-related conditions:\u001b[0;0m\n",
      "Temperature   : 12.64 deg F\n",
      "Apparent temp.: -5.23 deg F\n",
      "Dew point     : 6.76 deg F\n",
      "Humidity      : 77.0 percent\n",
      "\n",
      "\u001b[1;34mAir-related conditions:\u001b[0;0m\n",
      "Air pressure: 1027.44 mb\n",
      "\u001b[1;34mWind:\u001b[0;0m\n",
      "* speed  : 19.52 mph\n",
      "* gust   : 22.53 mph\n",
      "* bearing: SW degrees\n",
      "\n",
      "\u001b[1;34mCeiling-related conditions:\u001b[0;0m\n",
      "Cloud cover  : 73.0 percent\n",
      "UV index     : 0\n",
      "Visibility   : 1.87 miles\n",
      "Ozone density: 402.91 DU\n"
     ]
    }
   ],
   "source": [
    "print(\"\\n\\033[1;34mCurrent Weather\\033[0;0m (data provided thru Dark Sky API)\\n\")\n",
    "print(\"Date/Time:\", datetime.datetime.fromtimestamp(json.loads(r.data.decode('utf-8'))['currently']['time']))\n",
    "print(\"Summary  :\", json.loads(r.data.decode('utf-8'))['currently']['summary'], '\\n')\n",
    "print(\"Distance to nearest storm:\", json.loads(r.data.decode('utf-8'))['currently']['nearestStormDistance'], \"miles\")\n",
    "print(\"\\033[1;34mPrecipitation:\\033[0;0m\")\n",
    "print(\"* intensity             :\", json.loads(r.data.decode('utf-8'))['currently']['precipIntensity'], \"mm/h\")\n",
    "try:\n",
    "    print(\"* intensity error margin:\", json.loads(r.data.decode('utf-8'))['currently']['precipIntensityError'], \"mm/h\")\n",
    "except KeyError:\n",
    "    print(\"KeyError: omitted data\")\n",
    "print(\"* probability           :\", json.loads(r.data.decode('utf-8'))['currently']['precipProbability'] * 100, \"percent\")\n",
    "try:\n",
    "    print(\"* type                  :\", json.loads(r.data.decode('utf-8'))['currently']['precipType'], '\\n')\n",
    "except KeyError:\n",
    "    print(\"KeyError: omitted data\")\n",
    "print(\"\\033[1;34mTemperature-related conditions:\\033[0;0m\")\n",
    "print(\"Temperature   :\", json.loads(r.data.decode('utf-8'))['currently']['temperature'], \"deg F\")\n",
    "print(\"Apparent temp.:\", json.loads(r.data.decode('utf-8'))['currently']['apparentTemperature'], \"deg F\")\n",
    "print(\"Dew point     :\", json.loads(r.data.decode('utf-8'))['currently']['dewPoint'], \"deg F\")\n",
    "print(\"Humidity      :\", json.loads(r.data.decode('utf-8'))['currently']['humidity'] * 100, \"percent\\n\")\n",
    "print(\"\\033[1;34mAir-related conditions:\\033[0;0m\")\n",
    "print(\"Air pressure:\", json.loads(r.data.decode('utf-8'))['currently']['pressure'], \"mb\")\n",
    "print(\"\\033[1;34mWind:\\033[0;0m\")\n",
    "print(\"* speed  :\", json.loads(r.data.decode('utf-8'))['currently']['windSpeed'], \"mph\")\n",
    "print(\"* gust   :\", json.loads(r.data.decode('utf-8'))['currently']['windGust'], \"mph\")\n",
    "print(\"* bearing:\", degrees_to_cardinal(json.loads(r.data.decode('utf-8'))['currently']['windBearing']), \"degrees\\n\")\n",
    "print(\"\\033[1;34mCeiling-related conditions:\\033[0;0m\")\n",
    "print(\"Cloud cover  :\", json.loads(r.data.decode('utf-8'))['currently']['cloudCover'] * 100, \"percent\")\n",
    "print(\"UV index     :\", json.loads(r.data.decode('utf-8'))['currently']['uvIndex'])\n",
    "print(\"Visibility   :\", json.loads(r.data.decode('utf-8'))['currently']['visibility'], \"miles\")\n",
    "print(\"Ozone density:\", json.loads(r.data.decode('utf-8'))['currently']['ozone'], \"DU\")"
   ]
  }
 ],
 "metadata": {
  "kernelspec": {
   "display_name": "Python [conda env:anaconda3]",
   "language": "python",
   "name": "conda-env-anaconda3-py"
  },
  "language_info": {
   "codemirror_mode": {
    "name": "ipython",
    "version": 3
   },
   "file_extension": ".py",
   "mimetype": "text/x-python",
   "name": "python",
   "nbconvert_exporter": "python",
   "pygments_lexer": "ipython3",
   "version": "3.6.4"
  }
 },
 "nbformat": 4,
 "nbformat_minor": 2
}

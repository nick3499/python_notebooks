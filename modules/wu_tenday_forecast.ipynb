{
 "cells": [
  {
   "cell_type": "markdown",
   "metadata": {},
   "source": [
    "# 10-Day Forecast: Weather Underground API"
   ]
  },
  {
   "cell_type": "markdown",
   "metadata": {},
   "source": [
    "[Weather Underground API](https://www.wunderground.com/weather/api/) provides weather data in JSON format. An API key is required."
   ]
  },
  {
   "cell_type": "markdown",
   "metadata": {},
   "source": [
    "### Shebang/Interpreter Directive"
   ]
  },
  {
   "cell_type": "code",
   "execution_count": 20,
   "metadata": {},
   "outputs": [],
   "source": [
    "#!/usr/bin/env python2"
   ]
  },
  {
   "cell_type": "markdown",
   "metadata": {},
   "source": [
    "### Import Modules"
   ]
  },
  {
   "cell_type": "markdown",
   "metadata": {},
   "source": [
    "In order to resolve a `ModuleNotFoundError`, I needed to change `import urllib2` to `from urllib.request import urlopen`."
   ]
  },
  {
   "cell_type": "code",
   "execution_count": 21,
   "metadata": {},
   "outputs": [],
   "source": [
    "from urllib.request import urlopen\n",
    "import json"
   ]
  },
  {
   "cell_type": "markdown",
   "metadata": {},
   "source": [
    "### Get URL"
   ]
  },
  {
   "cell_type": "markdown",
   "metadata": {},
   "source": [
    "`urllib2.urlopen()` contains 3 methods and returns a file object. `geturl()` gets the data from the Weather Underground API. `info()` handles the meta info. `getcode()` handles GET request status code. `f.read()` reads the JSON data. `json.loads(g)` parses the JSON data."
   ]
  },
  {
   "cell_type": "code",
   "execution_count": 22,
   "metadata": {},
   "outputs": [],
   "source": [
    "f = urlopen('http://api.wunderground.com/api/ad8ef392afe1e78f/forecast10day/q/IL/pws:KILMORRI2.json')\n",
    "g = f.read()  # JSON data\n",
    "p = json.loads(g)  # parsed JSON"
   ]
  },
  {
   "cell_type": "markdown",
   "metadata": {},
   "source": [
    "### Print Title and Time"
   ]
  },
  {
   "cell_type": "code",
   "execution_count": 23,
   "metadata": {},
   "outputs": [
    {
     "name": "stdout",
     "output_type": "stream",
     "text": [
      "\n",
      "\u001b[1;36mWeather Forecast: 10 Day\u001b[0;0m (Weather Underground API)\n",
      "Time: 2:52 AM CST\n",
      "\n"
     ]
    }
   ],
   "source": [
    "print(\"\\n\\033[1;36mWeather Forecast: 10 Day\\033[0;0m (Weather Underground API)\")\n",
    "print(\"Time: %s\\n\" % (p['forecast']['txt_forecast']['date']))"
   ]
  },
  {
   "cell_type": "markdown",
   "metadata": {},
   "source": [
    "### Interate thru Forecast Dictionaries"
   ]
  },
  {
   "cell_type": "markdown",
   "metadata": {},
   "source": [
    "`p['forecast']['txt_forecast']['forecastday']` contains a list of 20 parsed JSON forecast dictionaries, for daytime and nighttime forecasts. But unavailable data is simply omitted, so that total could change, which explains why the `for` loop range is based on the inconsistent `len()` of `forecastday` list. `title` key name signifies a string for the name of the day of the week, including night. `fcttext` signifies a string which describes the forecast. `pop` signifies an integer for probability of precipitation."
   ]
  },
  {
   "cell_type": "code",
   "execution_count": 24,
   "metadata": {},
   "outputs": [
    {
     "name": "stdout",
     "output_type": "stream",
     "text": [
      "\u001b[1;34mWednesday\u001b[0;0m\n",
      " * forecast: Abundant sunshine. High 21F. Winds WSW at 10 to 20 mph.\n",
      " * precip. prob.: 0%\n",
      "\u001b[1;34mWednesday Night\u001b[0;0m\n",
      " * forecast: Clear skies. Low near 15F. Winds SW at 15 to 25 mph.\n",
      " * precip. prob.: 0%\n",
      "\u001b[1;34mThursday\u001b[0;0m\n",
      " * forecast: Generally sunny. High 32F. Winds SW at 10 to 20 mph.\n",
      " * precip. prob.: 0%\n",
      "\u001b[1;34mThursday Night\u001b[0;0m\n",
      " * forecast: A mostly clear sky. Low 21F. Winds SW at 10 to 15 mph.\n",
      " * precip. prob.: 10%\n",
      "\u001b[1;34mFriday\u001b[0;0m\n",
      " * forecast: Sunshine. High 39F. Winds SSW at 10 to 20 mph.\n",
      " * precip. prob.: 10%\n",
      "\u001b[1;34mFriday Night\u001b[0;0m\n",
      " * forecast: Generally fair. Low 29F. Winds SW at 10 to 20 mph.\n",
      " * precip. prob.: 10%\n",
      "\u001b[1;34mSaturday\u001b[0;0m\n",
      " * forecast: Partly cloudy skies during the morning hours will become overcast in the afternoon. High 42F. Winds SW at 10 to 15 mph.\n",
      " * precip. prob.: 20%\n",
      "\u001b[1;34mSaturday Night\u001b[0;0m\n",
      " * forecast: Cloudy in the evening, then off and on rain showers after midnight. Low 33F. Winds S at 5 to 10 mph. Chance of rain 40%.\n",
      " * precip. prob.: 40%\n",
      "\u001b[1;34mSunday\u001b[0;0m\n",
      " * forecast: Rain showers in the morning will evolve into a more steady rain in the afternoon. High 44F. Winds S at 5 to 10 mph. Chance of rain 90%.\n",
      " * precip. prob.: 90%\n",
      "\u001b[1;34mSunday Night\u001b[0;0m\n",
      " * forecast: Rain. Low around 40F. Winds SSE at 10 to 20 mph. Chance of rain 80%. Rainfall near a quarter of an inch.\n",
      " * precip. prob.: 80%\n",
      "\u001b[1;34mMonday\u001b[0;0m\n",
      " * forecast: Rain...mixing with snow in the afternoon. High 44F. Winds SSW at 15 to 25 mph. Chance of rain 80%.\n",
      " * precip. prob.: 80%\n",
      "\u001b[1;34mMonday Night\u001b[0;0m\n",
      " * forecast: Overcast. Low 26F. Winds WSW at 15 to 25 mph.\n",
      " * precip. prob.: 20%\n",
      "\u001b[1;34mTuesday\u001b[0;0m\n",
      " * forecast: Partly to mostly cloudy. High 34F. Winds W at 10 to 15 mph.\n",
      " * precip. prob.: 10%\n",
      "\u001b[1;34mTuesday Night\u001b[0;0m\n",
      " * forecast: Partly cloudy early with increasing clouds overnight. Low 23F. Winds WSW at 5 to 10 mph.\n",
      " * precip. prob.: 10%\n",
      "\u001b[1;34mWednesday\u001b[0;0m\n",
      " * forecast: Cloudy. High 37F. Winds W at 5 to 10 mph.\n",
      " * precip. prob.: 20%\n",
      "\u001b[1;34mWednesday Night\u001b[0;0m\n",
      " * forecast: Clear to partly cloudy. Low 21F. Winds WNW at 5 to 10 mph.\n",
      " * precip. prob.: 20%\n",
      "\u001b[1;34mThursday\u001b[0;0m\n",
      " * forecast: Partly cloudy. High 34F. Winds WNW at 5 to 10 mph.\n",
      " * precip. prob.: 10%\n",
      "\u001b[1;34mThursday Night\u001b[0;0m\n",
      " * forecast: Cloudy early with partial clearing expected late. Low 23F. Winds SE at 5 to 10 mph.\n",
      " * precip. prob.: 10%\n",
      "\u001b[1;34mFriday\u001b[0;0m\n",
      " * forecast: Cloudy skies. High 36F. Winds SSE at 10 to 15 mph.\n",
      " * precip. prob.: 20%\n",
      "\u001b[1;34mFriday Night\u001b[0;0m\n",
      " * forecast: Snow flurries and snow showers. Low 24F. Winds S at 5 to 10 mph. Chance of snow 40%. About one inch of snow expected.\n",
      " * precip. prob.: 40%\n"
     ]
    }
   ],
   "source": [
    "for i in range(len(p['forecast']['txt_forecast']['forecastday'])):\n",
    "    print(\"\\033[1;34m%s\\033[0;0m\" %  (p['forecast']['txt_forecast']['forecastday'][i]['title'])  )\n",
    "    print(\" * forecast: %s\" % (p['forecast']['txt_forecast']['forecastday'][i]['fcttext']))\n",
    "    print(\" * precip. prob.: %s%%\" % (p['forecast']['txt_forecast']['forecastday'][i]['pop']))"
   ]
  },
  {
   "cell_type": "markdown",
   "metadata": {},
   "source": [
    "### Close Connection"
   ]
  },
  {
   "cell_type": "code",
   "execution_count": 25,
   "metadata": {},
   "outputs": [],
   "source": [
    "f.close()"
   ]
  }
 ],
 "metadata": {
  "kernelspec": {
   "display_name": "Python 2",
   "language": "python",
   "name": "python2"
  },
  "language_info": {
   "codemirror_mode": {
    "name": "ipython",
    "version": 3
   },
   "file_extension": ".py",
   "mimetype": "text/x-python",
   "name": "python",
   "nbconvert_exporter": "python",
   "pygments_lexer": "ipython3",
   "version": "3.6.4"
  }
 },
 "nbformat": 4,
 "nbformat_minor": 2
}

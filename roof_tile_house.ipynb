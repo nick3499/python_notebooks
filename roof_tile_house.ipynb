{
 "cells": [
  {
   "cell_type": "code",
   "execution_count": 1,
   "metadata": {
    "collapsed": false
   },
   "outputs": [
    {
     "name": "stdout",
     "output_type": "stream",
     "text": [
      "enter ROOF TILE HOUSE standing structure total --> 12\n",
      "enter productivity percentage: 50|100|120|140 --> 120\n",
      "total gold coins per 15min: 216\n",
      "total gold coins per hour : 864\n",
      "total population in houses: 528\n"
     ]
    },
    {
     "data": {
      "text/plain": [
       "'\\nenter ROOF TILE HOUSE standing structure total --> 12\\nenter productivity percentage: 50|100|120|140 --> 120\\ntotal gold coins per 15min: 216.0\\ntotal gold coins per hour: 864.0\\ntotal human population in houses: 528\\n'"
      ]
     },
     "execution_count": 1,
     "metadata": {},
     "output_type": "execute_result"
    }
   ],
   "source": [
    "#!/usr/bin/python3\n",
    "# Forge of Empires: Iron Age: Roof Tile House\n",
    "# boosted productivity of Gold Coins\n",
    "\n",
    "'''\n",
    "Initial Building Costs: 400 gold coins; 600 supplies.\n",
    "\n",
    "Population/Productivity Factors:\n",
    "- population per house: 44\n",
    "- productivity percentages: 50%|100%|120%|140% <--(enthusiasm +20%; coin boost +20%)\n",
    "- gold coin Production amounts: 8|15|18|21\n",
    "\n",
    "For productivity percentage, \n",
    "any number other than 50, 100, 120 or 140 will return a NameError.\n",
    "'''\n",
    "\n",
    "total_houses = float(input('enter ROOF TILE HOUSE standing structure total --> '))\n",
    "prod1        = float(input('enter productivity percentage: 50|100|120|140 --> '))\n",
    "\n",
    "if prod1 == 50:\n",
    "    prod2 = 15 * .5\n",
    "elif prod1 == 100:\n",
    "    prod2 = 15\n",
    "elif prod1 == 120:\n",
    "    prod2 = 15 * 1.2\n",
    "elif prod1 == 140:\n",
    "    prod2 = 15 * 1.4\n",
    "\n",
    "pop = total_houses * 44\n",
    "total_prod = prod2 * total_houses\n",
    "total_prod_hr = total_prod * 4\n",
    "\n",
    "print('total gold coins per 15min:', int(total_prod))\n",
    "print('total gold coins per hour :', int(total_prod_hr))\n",
    "print('total population in houses:', int(pop))\n",
    "\n",
    "'''\n",
    "enter ROOF TILE HOUSE standing structure total --> 12\n",
    "enter productivity percentage: 50|100|120|140 --> 120\n",
    "total gold coins per 15min: 216.0\n",
    "total gold coins per hour: 864.0\n",
    "total human population in houses: 528\n",
    "'''"
   ]
  },
  {
   "cell_type": "code",
   "execution_count": null,
   "metadata": {
    "collapsed": true
   },
   "outputs": [],
   "source": []
  }
 ],
 "metadata": {
  "kernelspec": {
   "display_name": "Python [default]",
   "language": "python",
   "name": "python3"
  },
  "language_info": {
   "codemirror_mode": {
    "name": "ipython",
    "version": 3
   },
   "file_extension": ".py",
   "mimetype": "text/x-python",
   "name": "python",
   "nbconvert_exporter": "python",
   "pygments_lexer": "ipython3",
   "version": "3.5.2"
  }
 },
 "nbformat": 4,
 "nbformat_minor": 2
}

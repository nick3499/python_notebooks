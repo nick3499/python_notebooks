{
 "cells": [
  {
   "cell_type": "markdown",
   "metadata": {},
   "source": [
    "# class"
   ]
  },
  {
   "cell_type": "markdown",
   "metadata": {},
   "source": [
    "The **class** object example below incorporates characteristics and methods. Each instance helps describe each unique bicycle, e.g. coating, color, frame. Classes are typically capitalized to suit identification."
   ]
  },
  {
   "cell_type": "code",
   "execution_count": 22,
   "metadata": {
    "collapsed": false
   },
   "outputs": [
    {
     "name": "stdout",
     "output_type": "stream",
     "text": [
      "coating color: clear | coating material: resin | frame material: carbon fiber\n",
      "coating color: green | coating material: enamel | frame material: aluminum\n",
      "cruise the neighborhood\n"
     ]
    }
   ],
   "source": [
    "class Bicycle:\n",
    "    def __init__(self, coating_color, coating_material, frame_material):\n",
    "        self.coating_color = coating_color\n",
    "        self.coating_material = coating_material\n",
    "        self.frame_material = frame_material\n",
    "\n",
    "    def cruise(self):\n",
    "        print('cruise the neighborhood')\n",
    "\n",
    "carbon_fiber_bicycle = Bicycle('clear', 'resin', 'carbon fiber')\n",
    "aluminum_bicycle = Bicycle('green', 'enamel', 'aluminum')\n",
    "\n",
    "print('coating color: %s | coating material: %s | frame material: %s'\n",
    "      % (carbon_fiber_bicycle.coating_color, \n",
    "         carbon_fiber_bicycle.coating_material, \n",
    "         carbon_fiber_bicycle.frame_material))\n",
    "print('coating color: %s | coating material: %s | frame material: %s'\n",
    "      % (aluminum_bicycle.coating_color, \n",
    "         aluminum_bicycle.coating_material, \n",
    "         aluminum_bicycle.frame_material))\n",
    "\n",
    "aluminum_bicycle.cruise()"
   ]
  },
  {
   "cell_type": "code",
   "execution_count": null,
   "metadata": {
    "collapsed": true
   },
   "outputs": [],
   "source": []
  }
 ],
 "metadata": {
  "anaconda-cloud": {},
  "kernelspec": {
   "display_name": "Python [conda root]",
   "language": "python",
   "name": "conda-root-py"
  },
  "language_info": {
   "codemirror_mode": {
    "name": "ipython",
    "version": 3
   },
   "file_extension": ".py",
   "mimetype": "text/x-python",
   "name": "python",
   "nbconvert_exporter": "python",
   "pygments_lexer": "ipython3",
   "version": "3.5.2"
  }
 },
 "nbformat": 4,
 "nbformat_minor": 1
}

{
 "cells": [
  {
   "cell_type": "code",
   "execution_count": 6,
   "metadata": {},
   "outputs": [
    {
     "name": "stdout",
     "output_type": "stream",
     "text": [
      "all ranked countries: {'United States': 1, 'China': 2, 'Russia': 3, 'Germany': 4, 'United Kingdom': 5}\n",
      "top ranked countries: {1: 'UNITED STATES', 2: 'CHINA', 3: 'RUSSIA'}\n",
      "contains: True\n",
      "get rank: 1\n",
      "dictionary key iterator object: <dict_keyiterator object at 0x7f6fac5544a8>\n",
      "length: 5\n",
      "items: dict_items([('United States', 1), ('China', 2), ('Russia', 3), ('Germany', 4), ('United Kingdom', 5)])\n",
      "keys: dict_keys(['United States', 'China', 'Russia', 'Germany', 'United Kingdom'])\n",
      "values: dict_values([1, 2, 3, 4, 5])\n"
     ]
    }
   ],
   "source": [
    "COUNTRY_RANK = [\n",
    "    (1, 'United States'),\n",
    "    (2, 'China'),\n",
    "    (3, 'Russia'),\n",
    "    (4, 'Germany'),\n",
    "    (5, 'United Kingdom')\n",
    "]\n",
    "\n",
    "country_ranks = {country: code\n",
    "                 for code, country in COUNTRY_RANK}\n",
    "print('all ranked countries:', country_ranks)\n",
    "\n",
    "top_ranks = {code: country.upper()\n",
    "             for country, code in country_ranks.items()\n",
    "             if code < 4}\n",
    "print('top ranked countries:', top_ranks)\n",
    "\n",
    "print('contains:', country_ranks.__contains__('United States'))\n",
    "print('get rank:', country_ranks['United States'])\n",
    "print('dictionary key iterator object:', country_ranks.__iter__())\n",
    "print('length:', len(country_ranks))\n",
    "print('items:', country_ranks.items())\n",
    "print('keys:', country_ranks.keys())\n",
    "print('values:', country_ranks.values())"
   ]
  }
 ],
 "metadata": {
  "kernelspec": {
   "display_name": "Python 3",
   "language": "python",
   "name": "python3"
  },
  "language_info": {
   "codemirror_mode": {
    "name": "ipython",
    "version": 3
   },
   "file_extension": ".py",
   "mimetype": "text/x-python",
   "name": "python",
   "nbconvert_exporter": "python",
   "pygments_lexer": "ipython3",
   "version": "3.6.2"
  }
 },
 "nbformat": 4,
 "nbformat_minor": 2
}

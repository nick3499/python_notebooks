{
 "cells": [
  {
   "cell_type": "markdown",
   "metadata": {},
   "source": [
    "# immutable"
   ]
  },
  {
   "cell_type": "markdown",
   "metadata": {},
   "source": [
    "Object type **int** is immutable. To illustrate, integers have been have been assigned to objects below with the same name in the global namespace. Different id numbers indicate that the first immutable value was not replaced. Instead, another new immutable object was created with the same name, but with a different id number."
   ]
  },
  {
   "cell_type": "code",
   "execution_count": 12,
   "metadata": {
    "collapsed": false
   },
   "outputs": [
    {
     "name": "stdout",
     "output_type": "stream",
     "text": [
      "first immutable object remains unchanged      --> 140602673471296\n",
      "new immutable object with different id number --> 140602673471328\n"
     ]
    }
   ],
   "source": [
    "age = 42\n",
    "print('first immutable object remains unchanged      -->', id(age))\n",
    "\n",
    "age = 43\n",
    "print('new immutable object with different id number -->', id(age))"
   ]
  },
  {
   "cell_type": "code",
   "execution_count": null,
   "metadata": {
    "collapsed": true
   },
   "outputs": [],
   "source": []
  }
 ],
 "metadata": {
  "anaconda-cloud": {},
  "kernelspec": {
   "display_name": "Python [conda root]",
   "language": "python",
   "name": "conda-root-py"
  },
  "language_info": {
   "codemirror_mode": {
    "name": "ipython",
    "version": 3
   },
   "file_extension": ".py",
   "mimetype": "text/x-python",
   "name": "python",
   "nbconvert_exporter": "python",
   "pygments_lexer": "ipython3",
   "version": "3.5.2"
  }
 },
 "nbformat": 4,
 "nbformat_minor": 1
}

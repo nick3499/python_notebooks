{
 "cells": [
  {
   "cell_type": "code",
   "execution_count": 1,
   "metadata": {},
   "outputs": [
    {
     "name": "stdout",
     "output_type": "stream",
     "text": [
      "1\n",
      "1\n",
      "1\n",
      "2\n",
      "[[0, 0, 0], [0, 1, 0], [0, 0, 1], [1, 0, 0], [1, 1, 1]]\n"
     ]
    }
   ],
   "source": [
    "if __name__ == '__main__':\n",
    "    X, Y, Z, N = (int(input()) + 1 for _ in range(4))\n",
    "    print([[a, b, c] for a in range(X)\n",
    "                     for c in range(Y)\n",
    "                     for b in range(Z)\n",
    "                     if a + b + c != N - 1])"
   ]
  },
  {
   "cell_type": "markdown",
   "metadata": {},
   "source": [
    "The first iteration prints `[0,0,0]` since the comprehension is wrapped in a `print()` function, at the start of the range `[0, 1]`. Next, the innermost `for` loop is triggered, which prints `[0,0,1]`. Followed by `[0, 1, 0]` and `[1, 0, 0]`, since `for b in range Y` and `for a in range X` are each individually affected by `Y + 1` or `X + 1` at each of their initial iterations. Finally, `if a + b + c != N - 1` needs to be satisfied, which leads to the final `[1,1,1]`."
   ]
  }
 ],
 "metadata": {
  "kernelspec": {
   "display_name": "Python 3",
   "language": "python",
   "name": "python3"
  },
  "language_info": {
   "codemirror_mode": {
    "name": "ipython",
    "version": 3
   },
   "file_extension": ".py",
   "mimetype": "text/x-python",
   "name": "python",
   "nbconvert_exporter": "python",
   "pygments_lexer": "ipython3",
   "version": "3.6.2"
  }
 },
 "nbformat": 4,
 "nbformat_minor": 2
}

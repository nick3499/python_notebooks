{
 "cells": [
  {
   "cell_type": "code",
   "execution_count": 1,
   "metadata": {},
   "outputs": [
    {
     "name": "stdout",
     "output_type": "stream",
     "text": [
      "5\n",
      "Harry\n",
      "37.21\n",
      "Berry\n",
      "37.21\n",
      "Tina\n",
      "37.2\n",
      "Akriti\n",
      "41\n",
      "Harsh\n",
      "39\n",
      "Berry\n",
      "Harry\n"
     ]
    }
   ],
   "source": [
    "if __name__ == '__main__':\n",
    "    n = int(input())\n",
    "    nlist = [[input(), float(input())] for _ in range(n)]\n",
    "    second_lowest = sorted(list(set([marks for name, marks in nlist])))[1]\n",
    "    print('\\n'.join([a for a, b in sorted(nlist) if b == second_lowest]))"
   ]
  },
  {
   "cell_type": "markdown",
   "metadata": {},
   "source": [
    "`n = int(input())` is the first value of `5` entered above, which indicates how many students, along with their total scores, are listed. `nlist = [[input(), float(input())] for _ in range(n)]` iterates through students/points items entered. `[input(), float(input())]` sets the format of each nested list, e.g. `['Harry', 37.21]`. `nlist` stores the nested lists: `[['Harry', 37.21], ['Berry', 37.21], ['Tina', 37.2], ['Akriti', 41.0], ['Harsh', 39.0]]`. `second_lowest = sorted(list(set([marks for name, marks in nlist])))[1]` gets the second lowest score. The `set()` function removes the extra `37.21` value so that the second lowest value can be indexed, e.g. `[1]`. Finally, `'\\n'.join([a for a, b in sorted(nlist) if b == second_lowest])` is for iterating through the identical second lowest scores, sorting them, and printing them line by line, similar to format."
   ]
  }
 ],
 "metadata": {
  "kernelspec": {
   "display_name": "Python 3",
   "language": "python",
   "name": "python3"
  },
  "language_info": {
   "codemirror_mode": {
    "name": "ipython",
    "version": 3
   },
   "file_extension": ".py",
   "mimetype": "text/x-python",
   "name": "python",
   "nbconvert_exporter": "python",
   "pygments_lexer": "ipython3",
   "version": "3.6.2"
  }
 },
 "nbformat": 4,
 "nbformat_minor": 2
}

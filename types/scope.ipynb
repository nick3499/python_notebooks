{
 "cells": [
  {
   "cell_type": "markdown",
   "metadata": {},
   "source": [
    "# scope"
   ]
  },
  {
   "cell_type": "code",
   "execution_count": 13,
   "metadata": {
    "collapsed": false
   },
   "outputs": [
    {
     "name": "stdout",
     "output_type": "stream",
     "text": [
      "\"x\" in global namespace is function outside body\n",
      "x: global iterator object --> <str_iterator object at 0x7fd37454ac18>\n",
      "x: global hash number     --> -7562138486718251333\n",
      "——————————————————————————————————————————————————\n",
      "\"x\" in local namespace is inside function body with different iterator object and hash number\n",
      "iterator object   --> <str_iterator object at 0x7fd37454aba8> (unique iterator object)\n",
      "local hash number --> -6490980479979060466 (unique hash number)\n"
     ]
    }
   ],
   "source": [
    "def local1():\n",
    "    x = 'x: local scope, inside body of function'\n",
    "    print('\"x\" in local namespace is inside function body with different iterator object and hash number')\n",
    "    print('iterator object   -->', iter(x), '(unique iterator object)')\n",
    "    print('local hash number -->', hash(x), '(unique hash number)')\n",
    "\n",
    "x = 'x: global scope, outside body of function'\n",
    "print('\"x\" in global namespace is function outside body')\n",
    "print('x: global iterator object -->', iter(x))\n",
    "print('x: global hash number     -->', hash(x))\n",
    "print('——————————————————————————————————————————————————')\n",
    "\n",
    "local1()"
   ]
  },
  {
   "cell_type": "markdown",
   "metadata": {},
   "source": [
    "**x** in *local* namespace and **x** in *global* namespace are different objects, as indicated by different hash numbers and iterator objects."
   ]
  },
  {
   "cell_type": "code",
   "execution_count": 7,
   "metadata": {
    "collapsed": false
   },
   "outputs": [
    {
     "name": "stdout",
     "output_type": "stream",
     "text": [
      "7 --> print() called from global scope\n",
      "7 --> print() called from local scope\n"
     ]
    }
   ],
   "source": [
    "def local2():\n",
    "    print(y, '--> print() called from local scope')\n",
    "\n",
    "y = 7\n",
    "print(y, '--> print() called from global scope')\n",
    "\n",
    "local2()"
   ]
  },
  {
   "cell_type": "markdown",
   "metadata": {},
   "source": [
    "The print() call in the function body first searches for *y* in local scope, then enclosing scope, to finally find *y* in global scope. Which demonstrates the **LEGB** process:\n",
    " - **L**ocal\n",
    " - **E**nclosing\n",
    " - **G**lobal\n",
    " - **B**uilt-in"
   ]
  },
  {
   "cell_type": "code",
   "execution_count": null,
   "metadata": {
    "collapsed": true
   },
   "outputs": [],
   "source": []
  }
 ],
 "metadata": {
  "anaconda-cloud": {},
  "kernelspec": {
   "display_name": "Python [conda root]",
   "language": "python",
   "name": "conda-root-py"
  },
  "language_info": {
   "codemirror_mode": {
    "name": "ipython",
    "version": 3
   },
   "file_extension": ".py",
   "mimetype": "text/x-python",
   "name": "python",
   "nbconvert_exporter": "python",
   "pygments_lexer": "ipython3",
   "version": "3.5.2"
  }
 },
 "nbformat": 4,
 "nbformat_minor": 1
}

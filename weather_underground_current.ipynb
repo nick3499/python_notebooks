{
 "cells": [
  {
   "cell_type": "markdown",
   "metadata": {},
   "source": [
    "# Weather Underground API: Current Weather"
   ]
  },
  {
   "cell_type": "markdown",
   "metadata": {},
   "source": [
    "[Weather Underground API](https://www.wunderground.com/weather/api/) provides weather data in JSON format."
   ]
  },
  {
   "cell_type": "markdown",
   "metadata": {},
   "source": [
    "#### Shebang/Interpreter Directive"
   ]
  },
  {
   "cell_type": "code",
   "execution_count": 1,
   "metadata": {},
   "outputs": [],
   "source": [
    "#!/usr/bin/env python3"
   ]
  },
  {
   "cell_type": "markdown",
   "metadata": {},
   "source": [
    "#### Import Modules"
   ]
  },
  {
   "cell_type": "code",
   "execution_count": 2,
   "metadata": {},
   "outputs": [],
   "source": [
    "from urllib3 import PoolManager\n",
    "import json"
   ]
  },
  {
   "cell_type": "markdown",
   "metadata": {},
   "source": [
    "#### Dictionary for URL Variables"
   ]
  },
  {
   "cell_type": "code",
   "execution_count": 3,
   "metadata": {},
   "outputs": [],
   "source": [
    "d = {'api_key': '9394be6908a5b377',\n",
    "     'state_code': 'IL',\n",
    "     'personal_weather_station': 'pws:KILMORRI2'}"
   ]
  },
  {
   "cell_type": "markdown",
   "metadata": {},
   "source": [
    "#### Get Weather Data"
   ]
  },
  {
   "cell_type": "code",
   "execution_count": 4,
   "metadata": {},
   "outputs": [],
   "source": [
    "pm = PoolManager()\n",
    "r = pm.request('GET', 'http://api.wunderground.com/api/'\n",
    "               + d['api_key'] + '/conditions/q/' + d['state_code']\n",
    "               + '/' + d['personal_weather_station'] + '.json')\n",
    "co = json.loads(r.data.decode('utf-8'))['current_observation']"
   ]
  },
  {
   "cell_type": "markdown",
   "metadata": {},
   "source": [
    "#### Print Weather Data"
   ]
  },
  {
   "cell_type": "code",
   "execution_count": 5,
   "metadata": {},
   "outputs": [
    {
     "name": "stdout",
     "output_type": "stream",
     "text": [
      "\n",
      "\u001b[1;36mWeather: Current\u001b[0;0m (Weather Underground API)\n",
      " * Station: Goose Lake, Morris, Illinois\n",
      " * Last Updated on January 20, 3:13 AM CST\n",
      "\n",
      " * \u001b[1;34mWeather condition\u001b[0;0m: Clear\n",
      " * \u001b[1;34mTemperature\u001b[0;0m: 34.6 F (1.4 C)\n",
      " * \u001b[1;34mFeels like\u001b[0;0m: 30 F (-1 C)\n",
      "\n",
      " * \u001b[1;34mHumidity\u001b[0;0m: 79%\n",
      " * \u001b[1;34mDewpoint\u001b[0;0m: 29 F (-2 C)\n",
      " * \u001b[1;34mWind\u001b[0;0m: From the SSW at 5.7 MPH Gusting to 9.0 MPH\n",
      " * \u001b[1;34mWindchill\u001b[0;0m: 30 F (-1 C)\n",
      " * \u001b[1;34mHeat index\u001b[0;0m: NA HI (±1.3 F)\n",
      " * \u001b[1;34mSolar radiation\u001b[0;0m: 0 SI\n",
      " * \u001b[1;34mUltraviolet\u001b[0;0m: 0.0 UV\n",
      " * \u001b[1;34mVisibility\u001b[0;0m: 10.0 mi.\n",
      " * \u001b[1;34mPrecipitation 1hr\u001b[0;0m: 0.00 in ( 0 mm)\n",
      " * \u001b[1;34mPrecipitation today\u001b[0;0m: 0.00 in (0 mm)\n",
      " * \u001b[1;34mAtmospheric pressure\u001b[0;0m: 29.85- inHg\n",
      " * \u001b[1;34mSoil temperature\u001b[0;0m: 31.0 F\n",
      " * \u001b[1;34mLeaf wetness\u001b[0;0m: 0.0 (0 – 15)\n",
      "\n"
     ]
    }
   ],
   "source": [
    "print(\"\\n\\033[1;36mWeather: Current\\033[0;0m (Weather Underground API)\\n\",\n",
    "      \"* Station: {}\\n\".format(\n",
    "        co['observation_location']['full']),\n",
    "      \"* {}\\n\\n\".format(\n",
    "        co['observation_time']),\n",
    "      \"* \\033[1;34mWeather condition\\033[0;0m: {}\\n\".format(\n",
    "        co['weather']),\n",
    "      \"* \\033[1;34mTemperature\\033[0;0m: {}\\n\".format(\n",
    "        co['temperature_string']),\n",
    "      \"* \\033[1;34mFeels like\\033[0;0m: {}\\n\\n\".format(\n",
    "        co['feelslike_string']),\n",
    "      \"* \\033[1;34mHumidity\\033[0;0m: {}\\n\".format(\n",
    "        co['relative_humidity']),\n",
    "      \"* \\033[1;34mDewpoint\\033[0;0m: {}\\n\".format(\n",
    "        co['dewpoint_string']),\n",
    "      \"* \\033[1;34mWind\\033[0;0m: {}\\n\".format(\n",
    "        co['wind_string']),\n",
    "      \"* \\033[1;34mWindchill\\033[0;0m: {}\\n\".format(\n",
    "        co['windchill_string']),\n",
    "      \"* \\033[1;34mHeat index\\033[0;0m: {} HI (±1.3 F)\\n\".format(\n",
    "        co['heat_index_string']),\n",
    "      \"* \\033[1;34mSolar radiation\\033[0;0m: {} SI\\n\".format(\n",
    "        co['solarradiation']),\n",
    "      \"* \\033[1;34mUltraviolet\\033[0;0m: {} UV\\n\".format(\n",
    "        co['UV']),\n",
    "      \"* \\033[1;34mVisibility\\033[0;0m: {} mi.\\n\".format(\n",
    "        co['visibility_mi']),\n",
    "      \"* \\033[1;34mPrecipitation 1hr\\033[0;0m: {}\\n\".format(\n",
    "        co['precip_1hr_string']),\n",
    "      \"* \\033[1;34mPrecipitation today\\033[0;0m: {}\\n\".format(\n",
    "        co['precip_today_string']),\n",
    "      '* \\033[1;34mAtmospheric pressure\\033[0;0m: {}{} inHg\\n'.format(\n",
    "        co['pressure_in'],\n",
    "        co['pressure_trend']),\n",
    "      \"* \\033[1;34mSoil temperature\\033[0;0m: {} F\\n\".format(\n",
    "        co['soil_temp_f']),\n",
    "      \"* \\033[1;34mLeaf wetness\\033[0;0m: {} (0 – 15)\\n\".format(\n",
    "        co['leaf_wetness']))"
   ]
  },
  {
   "cell_type": "markdown",
   "metadata": {},
   "source": [
    "#### Close Connection"
   ]
  },
  {
   "cell_type": "code",
   "execution_count": 6,
   "metadata": {},
   "outputs": [],
   "source": [
    "r.close()"
   ]
  }
 ],
 "metadata": {
  "kernelspec": {
   "display_name": "Python [default]",
   "language": "python",
   "name": "python3"
  },
  "language_info": {
   "codemirror_mode": {
    "name": "ipython",
    "version": 3
   },
   "file_extension": ".py",
   "mimetype": "text/x-python",
   "name": "python",
   "nbconvert_exporter": "python",
   "pygments_lexer": "ipython3",
   "version": "3.6.4"
  }
 },
 "nbformat": 4,
 "nbformat_minor": 2
}

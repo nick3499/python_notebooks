{
 "metadata": {
  "name": "",
  "signature": "sha256:3a63ecb8860f87539c240474b8060ce720a64c8bc3994ed547cfb8aa55170149"
 },
 "nbformat": 3,
 "nbformat_minor": 0,
 "worksheets": [
  {
   "cells": [
    {
     "cell_type": "markdown",
     "metadata": {},
     "source": [
      "# YouTube Feed: Parse Video Links"
     ]
    },
    {
     "cell_type": "markdown",
     "metadata": {},
     "source": [
      "## Import feedparser\n",
      "Import `feedparser` Python module:"
     ]
    },
    {
     "cell_type": "code",
     "collapsed": false,
     "input": [
      "#!/usr/bin/env python2\n",
      "\n",
      "import feedparser as fp"
     ],
     "language": "python",
     "metadata": {
      "slideshow": {
       "slide_type": "-"
      }
     },
     "outputs": [],
     "prompt_number": 5
    },
    {
     "cell_type": "markdown",
     "metadata": {},
     "source": [
      "## Parse YouTube Feed Named: _The CGBros_\n",
      "The YouTube feed URL can be found in the web browser's source view. That key is named `rssUrl`. Parse that feed using `feedparser`. Assign parsed data to variable named `rss`:"
     ]
    },
    {
     "cell_type": "code",
     "collapsed": false,
     "input": [
      "rss = fp.parse('https://www.youtube.com/feeds/videos.xml?channel_id=UC-1rx8j9Ggp8mp4uD0ZdEIA')"
     ],
     "language": "python",
     "metadata": {},
     "outputs": [],
     "prompt_number": 6
    },
    {
     "cell_type": "markdown",
     "metadata": {},
     "source": [
      "## Print No. of Entries in Feed"
     ]
    },
    {
     "cell_type": "code",
     "collapsed": false,
     "input": [
      "print 'total entries:', len(rss.entries)"
     ],
     "language": "python",
     "metadata": {},
     "outputs": [
      {
       "output_type": "stream",
       "stream": "stdout",
       "text": [
        "total entries: 15\n"
       ]
      }
     ],
     "prompt_number": 7
    },
    {
     "cell_type": "markdown",
     "metadata": {},
     "source": [
      "## Print Dates with Links\n",
      "Print video publish dates and their youtube.com URLs. Iterate through parsed RSS entries which were assigned to variable named `rss`.  "
     ]
    },
    {
     "cell_type": "code",
     "collapsed": false,
     "input": [
      "for i in rss.entries:\n",
      "    print 'published:', i['published'][0:10]  # print date published\n",
      "    d = {}\n",
      "    for j in i.links:\n",
      "        d.update(j)  # add URLs to dictionary\n",
      "    print d['href']  # print URLs"
     ],
     "language": "python",
     "metadata": {},
     "outputs": [
      {
       "output_type": "stream",
       "stream": "stdout",
       "text": [
        "published: 2017-12-10\n",
        "https://www.youtube.com/watch?v=LV_VDlW7J9c\n",
        "published: 2017-12-10\n",
        "https://www.youtube.com/watch?v=951vlmo4h5o\n",
        "published: 2017-12-09\n",
        "https://www.youtube.com/watch?v=Yv5FyBK_u5Q\n",
        "published: 2017-12-08\n",
        "https://www.youtube.com/watch?v=GUfoObJ9nJc\n",
        "published: 2017-12-07\n",
        "https://www.youtube.com/watch?v=0h-N92rCLug\n",
        "published: 2017-12-06\n",
        "https://www.youtube.com/watch?v=WJnryD8O3h0\n",
        "published: 2017-12-06\n",
        "https://www.youtube.com/watch?v=0WCMc4MRLQ0\n",
        "published: 2017-12-06\n",
        "https://www.youtube.com/watch?v=3kZKOrNMjro\n",
        "published: 2017-12-05\n",
        "https://www.youtube.com/watch?v=WGl8S3B2bWs\n",
        "published: 2017-12-04\n",
        "https://www.youtube.com/watch?v=osxovqjPpgI\n",
        "published: 2017-12-03\n",
        "https://www.youtube.com/watch?v=ysC9BdXlurI\n",
        "published: 2017-12-03\n",
        "https://www.youtube.com/watch?v=db2EGMrWUm4\n",
        "published: 2017-12-02\n",
        "https://www.youtube.com/watch?v=zuy3Q2YDQqQ\n",
        "published: 2017-12-02\n",
        "https://www.youtube.com/watch?v=htoPB1lnoE4\n",
        "published: 2017-12-01\n",
        "https://www.youtube.com/watch?v=YWgFWIVLGtQ\n"
       ]
      }
     ],
     "prompt_number": 8
    }
   ],
   "metadata": {}
  }
 ]
}